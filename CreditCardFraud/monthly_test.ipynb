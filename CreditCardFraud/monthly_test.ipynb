{
 "cells": [
  {
   "cell_type": "code",
   "execution_count": 1,
   "metadata": {},
   "outputs": [],
   "source": [
    "%matplotlib inline\n",
    "import numpy as np \n",
    "import pandas as pd \n",
    "import matplotlib\n",
    "import matplotlib.pyplot as plt # 画图常用库\n",
    "# https://www.kaggle.com/themlguy/undersample-and-oversample-approach-explored"
   ]
  },
  {
   "cell_type": "markdown",
   "metadata": {},
   "source": [
    "# 导入数据 "
   ]
  },
  {
   "cell_type": "markdown",
   "metadata": {},
   "source": [
    "读入训练集"
   ]
  },
  {
   "cell_type": "code",
   "execution_count": 2,
   "metadata": {},
   "outputs": [
    {
     "data": {
      "text/html": [
       "<div>\n",
       "<style scoped>\n",
       "    .dataframe tbody tr th:only-of-type {\n",
       "        vertical-align: middle;\n",
       "    }\n",
       "\n",
       "    .dataframe tbody tr th {\n",
       "        vertical-align: top;\n",
       "    }\n",
       "\n",
       "    .dataframe thead th {\n",
       "        text-align: right;\n",
       "    }\n",
       "</style>\n",
       "<table border=\"1\" class=\"dataframe\">\n",
       "  <thead>\n",
       "    <tr style=\"text-align: right;\">\n",
       "      <th></th>\n",
       "      <th>Id</th>\n",
       "      <th>Time</th>\n",
       "      <th>V1</th>\n",
       "      <th>V2</th>\n",
       "      <th>V3</th>\n",
       "      <th>V4</th>\n",
       "      <th>V5</th>\n",
       "      <th>V6</th>\n",
       "      <th>V7</th>\n",
       "      <th>V8</th>\n",
       "      <th>...</th>\n",
       "      <th>V21</th>\n",
       "      <th>V22</th>\n",
       "      <th>V23</th>\n",
       "      <th>V24</th>\n",
       "      <th>V25</th>\n",
       "      <th>V26</th>\n",
       "      <th>V27</th>\n",
       "      <th>V28</th>\n",
       "      <th>Amount</th>\n",
       "      <th>Class</th>\n",
       "    </tr>\n",
       "  </thead>\n",
       "  <tbody>\n",
       "    <tr>\n",
       "      <th>0</th>\n",
       "      <td>0</td>\n",
       "      <td>0</td>\n",
       "      <td>-1.359807</td>\n",
       "      <td>-0.072781</td>\n",
       "      <td>2.536347</td>\n",
       "      <td>1.378155</td>\n",
       "      <td>-0.338321</td>\n",
       "      <td>0.462388</td>\n",
       "      <td>0.239599</td>\n",
       "      <td>0.098698</td>\n",
       "      <td>...</td>\n",
       "      <td>-0.018307</td>\n",
       "      <td>0.277838</td>\n",
       "      <td>-0.110474</td>\n",
       "      <td>0.066928</td>\n",
       "      <td>0.128539</td>\n",
       "      <td>-0.189115</td>\n",
       "      <td>0.133558</td>\n",
       "      <td>-0.021053</td>\n",
       "      <td>149.62</td>\n",
       "      <td>0</td>\n",
       "    </tr>\n",
       "    <tr>\n",
       "      <th>1</th>\n",
       "      <td>1</td>\n",
       "      <td>0</td>\n",
       "      <td>1.191857</td>\n",
       "      <td>0.266151</td>\n",
       "      <td>0.166480</td>\n",
       "      <td>0.448154</td>\n",
       "      <td>0.060018</td>\n",
       "      <td>-0.082361</td>\n",
       "      <td>-0.078803</td>\n",
       "      <td>0.085102</td>\n",
       "      <td>...</td>\n",
       "      <td>-0.225775</td>\n",
       "      <td>-0.638672</td>\n",
       "      <td>0.101288</td>\n",
       "      <td>-0.339846</td>\n",
       "      <td>0.167170</td>\n",
       "      <td>0.125895</td>\n",
       "      <td>-0.008983</td>\n",
       "      <td>0.014724</td>\n",
       "      <td>2.69</td>\n",
       "      <td>0</td>\n",
       "    </tr>\n",
       "    <tr>\n",
       "      <th>2</th>\n",
       "      <td>2</td>\n",
       "      <td>1</td>\n",
       "      <td>-1.358354</td>\n",
       "      <td>-1.340163</td>\n",
       "      <td>1.773209</td>\n",
       "      <td>0.379780</td>\n",
       "      <td>-0.503198</td>\n",
       "      <td>1.800499</td>\n",
       "      <td>0.791461</td>\n",
       "      <td>0.247676</td>\n",
       "      <td>...</td>\n",
       "      <td>0.247998</td>\n",
       "      <td>0.771679</td>\n",
       "      <td>0.909412</td>\n",
       "      <td>-0.689281</td>\n",
       "      <td>-0.327642</td>\n",
       "      <td>-0.139097</td>\n",
       "      <td>-0.055353</td>\n",
       "      <td>-0.059752</td>\n",
       "      <td>378.66</td>\n",
       "      <td>0</td>\n",
       "    </tr>\n",
       "    <tr>\n",
       "      <th>3</th>\n",
       "      <td>3</td>\n",
       "      <td>1</td>\n",
       "      <td>-0.966272</td>\n",
       "      <td>-0.185226</td>\n",
       "      <td>1.792993</td>\n",
       "      <td>-0.863291</td>\n",
       "      <td>-0.010309</td>\n",
       "      <td>1.247203</td>\n",
       "      <td>0.237609</td>\n",
       "      <td>0.377436</td>\n",
       "      <td>...</td>\n",
       "      <td>-0.108300</td>\n",
       "      <td>0.005274</td>\n",
       "      <td>-0.190321</td>\n",
       "      <td>-1.175575</td>\n",
       "      <td>0.647376</td>\n",
       "      <td>-0.221929</td>\n",
       "      <td>0.062723</td>\n",
       "      <td>0.061458</td>\n",
       "      <td>123.50</td>\n",
       "      <td>0</td>\n",
       "    </tr>\n",
       "    <tr>\n",
       "      <th>4</th>\n",
       "      <td>4</td>\n",
       "      <td>2</td>\n",
       "      <td>-1.158233</td>\n",
       "      <td>0.877737</td>\n",
       "      <td>1.548718</td>\n",
       "      <td>0.403034</td>\n",
       "      <td>-0.407193</td>\n",
       "      <td>0.095921</td>\n",
       "      <td>0.592941</td>\n",
       "      <td>-0.270533</td>\n",
       "      <td>...</td>\n",
       "      <td>-0.009431</td>\n",
       "      <td>0.798278</td>\n",
       "      <td>-0.137458</td>\n",
       "      <td>0.141267</td>\n",
       "      <td>-0.206010</td>\n",
       "      <td>0.502292</td>\n",
       "      <td>0.219422</td>\n",
       "      <td>0.215153</td>\n",
       "      <td>69.99</td>\n",
       "      <td>0</td>\n",
       "    </tr>\n",
       "  </tbody>\n",
       "</table>\n",
       "<p>5 rows × 32 columns</p>\n",
       "</div>"
      ],
      "text/plain": [
       "   Id  Time        V1        V2        V3        V4        V5        V6  \\\n",
       "0   0     0 -1.359807 -0.072781  2.536347  1.378155 -0.338321  0.462388   \n",
       "1   1     0  1.191857  0.266151  0.166480  0.448154  0.060018 -0.082361   \n",
       "2   2     1 -1.358354 -1.340163  1.773209  0.379780 -0.503198  1.800499   \n",
       "3   3     1 -0.966272 -0.185226  1.792993 -0.863291 -0.010309  1.247203   \n",
       "4   4     2 -1.158233  0.877737  1.548718  0.403034 -0.407193  0.095921   \n",
       "\n",
       "         V7        V8  ...         V21       V22       V23       V24  \\\n",
       "0  0.239599  0.098698  ...   -0.018307  0.277838 -0.110474  0.066928   \n",
       "1 -0.078803  0.085102  ...   -0.225775 -0.638672  0.101288 -0.339846   \n",
       "2  0.791461  0.247676  ...    0.247998  0.771679  0.909412 -0.689281   \n",
       "3  0.237609  0.377436  ...   -0.108300  0.005274 -0.190321 -1.175575   \n",
       "4  0.592941 -0.270533  ...   -0.009431  0.798278 -0.137458  0.141267   \n",
       "\n",
       "        V25       V26       V27       V28  Amount  Class  \n",
       "0  0.128539 -0.189115  0.133558 -0.021053  149.62      0  \n",
       "1  0.167170  0.125895 -0.008983  0.014724    2.69      0  \n",
       "2 -0.327642 -0.139097 -0.055353 -0.059752  378.66      0  \n",
       "3  0.647376 -0.221929  0.062723  0.061458  123.50      0  \n",
       "4 -0.206010  0.502292  0.219422  0.215153   69.99      0  \n",
       "\n",
       "[5 rows x 32 columns]"
      ]
     },
     "execution_count": 2,
     "metadata": {},
     "output_type": "execute_result"
    }
   ],
   "source": [
    "train = pd.read_csv('./data/creditcard_train.csv')\n",
    "train.head()"
   ]
  },
  {
   "cell_type": "markdown",
   "metadata": {},
   "source": [
    "观察数据"
   ]
  },
  {
   "cell_type": "code",
   "execution_count": 3,
   "metadata": {},
   "outputs": [
    {
     "data": {
      "text/html": [
       "<div>\n",
       "<style scoped>\n",
       "    .dataframe tbody tr th:only-of-type {\n",
       "        vertical-align: middle;\n",
       "    }\n",
       "\n",
       "    .dataframe tbody tr th {\n",
       "        vertical-align: top;\n",
       "    }\n",
       "\n",
       "    .dataframe thead th {\n",
       "        text-align: right;\n",
       "    }\n",
       "</style>\n",
       "<table border=\"1\" class=\"dataframe\">\n",
       "  <thead>\n",
       "    <tr style=\"text-align: right;\">\n",
       "      <th></th>\n",
       "      <th>Id</th>\n",
       "      <th>Time</th>\n",
       "      <th>V1</th>\n",
       "      <th>V2</th>\n",
       "      <th>V3</th>\n",
       "      <th>V4</th>\n",
       "      <th>V5</th>\n",
       "      <th>V6</th>\n",
       "      <th>V7</th>\n",
       "      <th>V8</th>\n",
       "      <th>...</th>\n",
       "      <th>V21</th>\n",
       "      <th>V22</th>\n",
       "      <th>V23</th>\n",
       "      <th>V24</th>\n",
       "      <th>V25</th>\n",
       "      <th>V26</th>\n",
       "      <th>V27</th>\n",
       "      <th>V28</th>\n",
       "      <th>Amount</th>\n",
       "      <th>Class</th>\n",
       "    </tr>\n",
       "  </thead>\n",
       "  <tbody>\n",
       "    <tr>\n",
       "      <th>count</th>\n",
       "      <td>227789.000000</td>\n",
       "      <td>227789.000000</td>\n",
       "      <td>227789.000000</td>\n",
       "      <td>227789.000000</td>\n",
       "      <td>227789.000000</td>\n",
       "      <td>227789.000000</td>\n",
       "      <td>227789.000000</td>\n",
       "      <td>227789.000000</td>\n",
       "      <td>227789.000000</td>\n",
       "      <td>227789.000000</td>\n",
       "      <td>...</td>\n",
       "      <td>227789.000000</td>\n",
       "      <td>227789.000000</td>\n",
       "      <td>227789.000000</td>\n",
       "      <td>227789.000000</td>\n",
       "      <td>227789.000000</td>\n",
       "      <td>227789.000000</td>\n",
       "      <td>227789.000000</td>\n",
       "      <td>227789.000000</td>\n",
       "      <td>227789.000000</td>\n",
       "      <td>227789.000000</td>\n",
       "    </tr>\n",
       "    <tr>\n",
       "      <th>mean</th>\n",
       "      <td>142485.953049</td>\n",
       "      <td>94864.232641</td>\n",
       "      <td>0.003432</td>\n",
       "      <td>0.000944</td>\n",
       "      <td>-0.000120</td>\n",
       "      <td>-0.000068</td>\n",
       "      <td>0.000143</td>\n",
       "      <td>-0.001337</td>\n",
       "      <td>0.000367</td>\n",
       "      <td>-0.000810</td>\n",
       "      <td>...</td>\n",
       "      <td>-0.000996</td>\n",
       "      <td>0.000211</td>\n",
       "      <td>0.000768</td>\n",
       "      <td>-0.000303</td>\n",
       "      <td>0.000415</td>\n",
       "      <td>0.000354</td>\n",
       "      <td>-0.000274</td>\n",
       "      <td>0.000256</td>\n",
       "      <td>87.968090</td>\n",
       "      <td>0.001734</td>\n",
       "    </tr>\n",
       "    <tr>\n",
       "      <th>std</th>\n",
       "      <td>82226.825346</td>\n",
       "      <td>47494.839872</td>\n",
       "      <td>1.951633</td>\n",
       "      <td>1.644484</td>\n",
       "      <td>1.509267</td>\n",
       "      <td>1.415671</td>\n",
       "      <td>1.382926</td>\n",
       "      <td>1.332437</td>\n",
       "      <td>1.240397</td>\n",
       "      <td>1.182995</td>\n",
       "      <td>...</td>\n",
       "      <td>0.731466</td>\n",
       "      <td>0.724361</td>\n",
       "      <td>0.615871</td>\n",
       "      <td>0.605033</td>\n",
       "      <td>0.520877</td>\n",
       "      <td>0.482573</td>\n",
       "      <td>0.402413</td>\n",
       "      <td>0.322572</td>\n",
       "      <td>250.749915</td>\n",
       "      <td>0.041606</td>\n",
       "    </tr>\n",
       "    <tr>\n",
       "      <th>min</th>\n",
       "      <td>0.000000</td>\n",
       "      <td>0.000000</td>\n",
       "      <td>-41.928738</td>\n",
       "      <td>-63.344698</td>\n",
       "      <td>-48.325589</td>\n",
       "      <td>-5.683171</td>\n",
       "      <td>-113.743307</td>\n",
       "      <td>-23.496714</td>\n",
       "      <td>-43.557242</td>\n",
       "      <td>-50.943369</td>\n",
       "      <td>...</td>\n",
       "      <td>-22.797604</td>\n",
       "      <td>-10.933144</td>\n",
       "      <td>-36.666000</td>\n",
       "      <td>-2.836627</td>\n",
       "      <td>-7.495741</td>\n",
       "      <td>-2.604551</td>\n",
       "      <td>-9.895244</td>\n",
       "      <td>-15.430084</td>\n",
       "      <td>0.000000</td>\n",
       "      <td>0.000000</td>\n",
       "    </tr>\n",
       "    <tr>\n",
       "      <th>25%</th>\n",
       "      <td>71286.000000</td>\n",
       "      <td>54240.000000</td>\n",
       "      <td>-0.919351</td>\n",
       "      <td>-0.598515</td>\n",
       "      <td>-0.890830</td>\n",
       "      <td>-0.849439</td>\n",
       "      <td>-0.691556</td>\n",
       "      <td>-0.768981</td>\n",
       "      <td>-0.554361</td>\n",
       "      <td>-0.209116</td>\n",
       "      <td>...</td>\n",
       "      <td>-0.228227</td>\n",
       "      <td>-0.541399</td>\n",
       "      <td>-0.161482</td>\n",
       "      <td>-0.354815</td>\n",
       "      <td>-0.317194</td>\n",
       "      <td>-0.327033</td>\n",
       "      <td>-0.070966</td>\n",
       "      <td>-0.052882</td>\n",
       "      <td>5.510000</td>\n",
       "      <td>0.000000</td>\n",
       "    </tr>\n",
       "    <tr>\n",
       "      <th>50%</th>\n",
       "      <td>142512.000000</td>\n",
       "      <td>84765.000000</td>\n",
       "      <td>0.021299</td>\n",
       "      <td>0.065609</td>\n",
       "      <td>0.179125</td>\n",
       "      <td>-0.020344</td>\n",
       "      <td>-0.055427</td>\n",
       "      <td>-0.275720</td>\n",
       "      <td>0.040358</td>\n",
       "      <td>0.022335</td>\n",
       "      <td>...</td>\n",
       "      <td>-0.029672</td>\n",
       "      <td>0.006675</td>\n",
       "      <td>-0.011212</td>\n",
       "      <td>0.040610</td>\n",
       "      <td>0.017127</td>\n",
       "      <td>-0.052128</td>\n",
       "      <td>0.001320</td>\n",
       "      <td>0.011294</td>\n",
       "      <td>21.990000</td>\n",
       "      <td>0.000000</td>\n",
       "    </tr>\n",
       "    <tr>\n",
       "      <th>75%</th>\n",
       "      <td>213657.000000</td>\n",
       "      <td>139341.000000</td>\n",
       "      <td>1.316593</td>\n",
       "      <td>0.805156</td>\n",
       "      <td>1.026138</td>\n",
       "      <td>0.742383</td>\n",
       "      <td>0.610164</td>\n",
       "      <td>0.397139</td>\n",
       "      <td>0.570242</td>\n",
       "      <td>0.327959</td>\n",
       "      <td>...</td>\n",
       "      <td>0.185470</td>\n",
       "      <td>0.527543</td>\n",
       "      <td>0.147993</td>\n",
       "      <td>0.438805</td>\n",
       "      <td>0.350827</td>\n",
       "      <td>0.241380</td>\n",
       "      <td>0.090764</td>\n",
       "      <td>0.077988</td>\n",
       "      <td>77.000000</td>\n",
       "      <td>0.000000</td>\n",
       "    </tr>\n",
       "    <tr>\n",
       "      <th>max</th>\n",
       "      <td>284806.000000</td>\n",
       "      <td>172792.000000</td>\n",
       "      <td>2.451888</td>\n",
       "      <td>22.057729</td>\n",
       "      <td>4.226108</td>\n",
       "      <td>16.875344</td>\n",
       "      <td>34.099309</td>\n",
       "      <td>73.301626</td>\n",
       "      <td>120.589494</td>\n",
       "      <td>20.007208</td>\n",
       "      <td>...</td>\n",
       "      <td>27.202839</td>\n",
       "      <td>8.361985</td>\n",
       "      <td>22.528412</td>\n",
       "      <td>4.584549</td>\n",
       "      <td>7.519589</td>\n",
       "      <td>3.517346</td>\n",
       "      <td>31.612198</td>\n",
       "      <td>22.620072</td>\n",
       "      <td>25691.160000</td>\n",
       "      <td>1.000000</td>\n",
       "    </tr>\n",
       "  </tbody>\n",
       "</table>\n",
       "<p>8 rows × 32 columns</p>\n",
       "</div>"
      ],
      "text/plain": [
       "                  Id           Time             V1             V2  \\\n",
       "count  227789.000000  227789.000000  227789.000000  227789.000000   \n",
       "mean   142485.953049   94864.232641       0.003432       0.000944   \n",
       "std     82226.825346   47494.839872       1.951633       1.644484   \n",
       "min         0.000000       0.000000     -41.928738     -63.344698   \n",
       "25%     71286.000000   54240.000000      -0.919351      -0.598515   \n",
       "50%    142512.000000   84765.000000       0.021299       0.065609   \n",
       "75%    213657.000000  139341.000000       1.316593       0.805156   \n",
       "max    284806.000000  172792.000000       2.451888      22.057729   \n",
       "\n",
       "                  V3             V4             V5             V6  \\\n",
       "count  227789.000000  227789.000000  227789.000000  227789.000000   \n",
       "mean       -0.000120      -0.000068       0.000143      -0.001337   \n",
       "std         1.509267       1.415671       1.382926       1.332437   \n",
       "min       -48.325589      -5.683171    -113.743307     -23.496714   \n",
       "25%        -0.890830      -0.849439      -0.691556      -0.768981   \n",
       "50%         0.179125      -0.020344      -0.055427      -0.275720   \n",
       "75%         1.026138       0.742383       0.610164       0.397139   \n",
       "max         4.226108      16.875344      34.099309      73.301626   \n",
       "\n",
       "                  V7             V8      ...                  V21  \\\n",
       "count  227789.000000  227789.000000      ...        227789.000000   \n",
       "mean        0.000367      -0.000810      ...            -0.000996   \n",
       "std         1.240397       1.182995      ...             0.731466   \n",
       "min       -43.557242     -50.943369      ...           -22.797604   \n",
       "25%        -0.554361      -0.209116      ...            -0.228227   \n",
       "50%         0.040358       0.022335      ...            -0.029672   \n",
       "75%         0.570242       0.327959      ...             0.185470   \n",
       "max       120.589494      20.007208      ...            27.202839   \n",
       "\n",
       "                 V22            V23            V24            V25  \\\n",
       "count  227789.000000  227789.000000  227789.000000  227789.000000   \n",
       "mean        0.000211       0.000768      -0.000303       0.000415   \n",
       "std         0.724361       0.615871       0.605033       0.520877   \n",
       "min       -10.933144     -36.666000      -2.836627      -7.495741   \n",
       "25%        -0.541399      -0.161482      -0.354815      -0.317194   \n",
       "50%         0.006675      -0.011212       0.040610       0.017127   \n",
       "75%         0.527543       0.147993       0.438805       0.350827   \n",
       "max         8.361985      22.528412       4.584549       7.519589   \n",
       "\n",
       "                 V26            V27            V28         Amount  \\\n",
       "count  227789.000000  227789.000000  227789.000000  227789.000000   \n",
       "mean        0.000354      -0.000274       0.000256      87.968090   \n",
       "std         0.482573       0.402413       0.322572     250.749915   \n",
       "min        -2.604551      -9.895244     -15.430084       0.000000   \n",
       "25%        -0.327033      -0.070966      -0.052882       5.510000   \n",
       "50%        -0.052128       0.001320       0.011294      21.990000   \n",
       "75%         0.241380       0.090764       0.077988      77.000000   \n",
       "max         3.517346      31.612198      22.620072   25691.160000   \n",
       "\n",
       "               Class  \n",
       "count  227789.000000  \n",
       "mean        0.001734  \n",
       "std         0.041606  \n",
       "min         0.000000  \n",
       "25%         0.000000  \n",
       "50%         0.000000  \n",
       "75%         0.000000  \n",
       "max         1.000000  \n",
       "\n",
       "[8 rows x 32 columns]"
      ]
     },
     "execution_count": 3,
     "metadata": {},
     "output_type": "execute_result"
    }
   ],
   "source": [
    "train.describe()"
   ]
  },
  {
   "cell_type": "code",
   "execution_count": 4,
   "metadata": {},
   "outputs": [
    {
     "name": "stdout",
     "output_type": "stream",
     "text": [
      "Class\n",
      "0    227394\n",
      "1       395\n",
      "dtype: int64\n"
     ]
    }
   ],
   "source": [
    "print(train.groupby(['Class']).size())"
   ]
  },
  {
   "cell_type": "code",
   "execution_count": 5,
   "metadata": {},
   "outputs": [
    {
     "name": "stdout",
     "output_type": "stream",
     "text": [
      "percentage of fraud transacation is 0.17340609072431065\n",
      "percentage of normal transacation is 99.82659390927569\n"
     ]
    }
   ],
   "source": [
    "Fraud_transacation = train[train[\"Class\"]==1]\n",
    "Normal_transacation = train[train[\"Class\"]==0]\n",
    "print(\"percentage of fraud transacation is\", len(Fraud_transacation) / len(train) * 100)\n",
    "print(\"percentage of normal transacation is\", len(Normal_transacation) / len(train) * 100)\n"
   ]
  },
  {
   "cell_type": "markdown",
   "metadata": {},
   "source": [
    "观察amount和label的关系"
   ]
  },
  {
   "cell_type": "code",
   "execution_count": 6,
   "metadata": {},
   "outputs": [
    {
     "data": {
      "text/plain": [
       "<matplotlib.axes._subplots.AxesSubplot at 0x1021a35c0>"
      ]
     },
     "execution_count": 6,
     "metadata": {},
     "output_type": "execute_result"
    },
    {
     "data": {
      "image/png": "[encoded data removed]",
      "text/plain": [
       "<matplotlib.figure.Figure at 0x106bc6ef0>"
      ]
     },
     "metadata": {},
     "output_type": "display_data"
    }
   ],
   "source": [
    "plt.figure(figsize=(15, 8))\n",
    "plt.subplot(121)\n",
    "Fraud_transacation.Amount.plot.hist(title=\"Fraud Transacation\")\n",
    "plt.subplot(122)\n",
    "Normal_transacation.Amount.plot.hist(title=\"Normal Transaction\")"
   ]
  },
  {
   "cell_type": "code",
   "execution_count": 7,
   "metadata": {},
   "outputs": [
    {
     "data": {
      "text/plain": [
       "<matplotlib.axes._subplots.AxesSubplot at 0x106bcc5f8>"
      ]
     },
     "execution_count": 7,
     "metadata": {},
     "output_type": "execute_result"
    },
    {
     "data": {
      "image/png": "[encoded data removed]",
      "text/plain": [
       "<matplotlib.figure.Figure at 0x1021a3e80>"
      ]
     },
     "metadata": {},
     "output_type": "display_data"
    }
   ],
   "source": [
    "plt.figure(figsize=(15, 8))\n",
    "plt.subplot(121)\n",
    "Fraud_transacation[Fraud_transacation[\"Amount\"]<=2000].Amount.plot.hist(title=\"Fraud Tranascation\")\n",
    "plt.subplot(122)\n",
    "Normal_transacation[Normal_transacation[\"Amount\"]<=2000].Amount.plot.hist(title=\"Normal Transaction\")"
   ]
  },
  {
   "cell_type": "markdown",
   "metadata": {},
   "source": [
    "# 数据预处理"
   ]
  },
  {
   "cell_type": "markdown",
   "metadata": {},
   "source": [
    "归一化"
   ]
  },
  {
   "cell_type": "code",
   "execution_count": 6,
   "metadata": {},
   "outputs": [],
   "source": [
    "from sklearn.preprocessing import StandardScaler\n",
    "\n",
    "train['Amount'] = StandardScaler().fit_transform(train['Amount'].values.reshape(-1, 1))\n",
    "train['Time'] = StandardScaler().fit_transform(train['Amount'].values.reshape(-1, 1))"
   ]
  },
  {
   "cell_type": "markdown",
   "metadata": {},
   "source": [
    "去掉无关feature"
   ]
  },
  {
   "cell_type": "code",
   "execution_count": 7,
   "metadata": {},
   "outputs": [
    {
     "name": "stdout",
     "output_type": "stream",
     "text": [
      "       Time        V1        V2        V3        V4        V5        V6  \\\n",
      "0  0.245871 -1.359807 -0.072781  2.536347  1.378155 -0.338321  0.462388   \n",
      "1 -0.340093  1.191857  0.266151  0.166480  0.448154  0.060018 -0.082361   \n",
      "2  1.159293 -1.358354 -1.340163  1.773209  0.379780 -0.503198  1.800499   \n",
      "3  0.141703 -0.966272 -0.185226  1.792993 -0.863291 -0.010309  1.247203   \n",
      "4 -0.071697 -1.158233  0.877737  1.548718  0.403034 -0.407193  0.095921   \n",
      "\n",
      "         V7        V8        V9  ...         V21       V22       V23  \\\n",
      "0  0.239599  0.098698  0.363787  ...   -0.018307  0.277838 -0.110474   \n",
      "1 -0.078803  0.085102 -0.255425  ...   -0.225775 -0.638672  0.101288   \n",
      "2  0.791461  0.247676 -1.514654  ...    0.247998  0.771679  0.909412   \n",
      "3  0.237609  0.377436 -1.387024  ...   -0.108300  0.005274 -0.190321   \n",
      "4  0.592941 -0.270533  0.817739  ...   -0.009431  0.798278 -0.137458   \n",
      "\n",
      "        V24       V25       V26       V27       V28    Amount  Class  \n",
      "0  0.066928  0.128539 -0.189115  0.133558 -0.021053  0.245871      0  \n",
      "1 -0.339846  0.167170  0.125895 -0.008983  0.014724 -0.340093      0  \n",
      "2 -0.689281 -0.327642 -0.139097 -0.055353 -0.059752  1.159293      0  \n",
      "3 -1.175575  0.647376 -0.221929  0.062723  0.061458  0.141703      0  \n",
      "4  0.141267 -0.206010  0.502292  0.219422  0.215153 -0.071697      0  \n",
      "\n",
      "[5 rows x 31 columns]\n"
     ]
    }
   ],
   "source": [
    "train.drop(['Id'], axis=1, inplace=True)\n",
    "print(train.head())"
   ]
  },
  {
   "cell_type": "markdown",
   "metadata": {},
   "source": [
    "# 不处理imbalanced data"
   ]
  },
  {
   "cell_type": "markdown",
   "metadata": {},
   "source": [
    "划分训练集"
   ]
  },
  {
   "cell_type": "code",
   "execution_count": 8,
   "metadata": {},
   "outputs": [
    {
     "name": "stdout",
     "output_type": "stream",
     "text": [
      "(182231, 30)\n",
      "(45558, 30)\n"
     ]
    }
   ],
   "source": [
    "from sklearn.model_selection import train_test_split\n",
    "\n",
    "X = train.iloc[:, train.columns != 'Class']\n",
    "y = train.iloc[:, train.columns == 'Class']\n",
    "X_train, X_test, y_train, y_test = train_test_split(X, y, test_size=0.2, random_state=0)\n",
    "print(X_train.shape)\n",
    "print(X_test.shape)"
   ]
  },
  {
   "cell_type": "markdown",
   "metadata": {},
   "source": [
    "训练model"
   ]
  },
  {
   "cell_type": "code",
   "execution_count": 13,
   "metadata": {},
   "outputs": [],
   "source": [
    "def generateReport(model_type, ground_truth, predict):\n",
    "    scores.append((model_type, f1_score(ground_truth, predict), \n",
    "                 precision_score(ground_truth, predict),\n",
    "                 recall_score(ground_truth, predict),\n",
    "                 accuracy_score(ground_truth, predict)))"
   ]
  },
  {
   "cell_type": "code",
   "execution_count": 19,
   "metadata": {},
   "outputs": [
    {
     "name": "stdout",
     "output_type": "stream",
     "text": [
      "LogisticRegression\n",
      "             precision    recall  f1-score   support\n",
      "\n",
      "          0       1.00      1.00      1.00     45468\n",
      "          1       0.90      0.68      0.77        90\n",
      "\n",
      "avg / total       1.00      1.00      1.00     45558\n",
      "\n",
      "DecisionTreeClassifier\n",
      "             precision    recall  f1-score   support\n",
      "\n",
      "          0       1.00      1.00      1.00     45468\n",
      "          1       0.84      0.73      0.78        90\n",
      "\n",
      "avg / total       1.00      1.00      1.00     45558\n",
      "\n",
      "RandomForestClassifier\n",
      "             precision    recall  f1-score   support\n",
      "\n",
      "          0       1.00      1.00      1.00     45468\n",
      "          1       0.95      0.79      0.86        90\n",
      "\n",
      "avg / total       1.00      1.00      1.00     45558\n",
      "\n",
      "AdaBoostClassifier\n",
      "             precision    recall  f1-score   support\n",
      "\n",
      "          0       1.00      1.00      1.00     45468\n",
      "          1       0.92      0.76      0.83        90\n",
      "\n",
      "avg / total       1.00      1.00      1.00     45558\n",
      "\n",
      "GradientBoostingClassifier\n",
      "             precision    recall  f1-score   support\n",
      "\n",
      "          0       1.00      1.00      1.00     45468\n",
      "          1       0.86      0.69      0.77        90\n",
      "\n",
      "avg / total       1.00      1.00      1.00     45558\n",
      "\n"
     ]
    }
   ],
   "source": [
    "from sklearn.tree import DecisionTreeClassifier\n",
    "from sklearn.linear_model import LogisticRegression\n",
    "from sklearn.ensemble import RandomForestClassifier, AdaBoostClassifier, GradientBoostingClassifier\n",
    "from sklearn.model_selection import cross_val_score\n",
    "from sklearn.metrics import confusion_matrix, f1_score, precision_score, accuracy_score, recall_score, classification_report\n",
    "\n",
    "scores = []\n",
    "\n",
    "classifiers = {'LogisticRegression': LogisticRegression(),\n",
    "               'DecisionTreeClassifier': DecisionTreeClassifier(), \n",
    "               'RandomForestClassifier': RandomForestClassifier(),\n",
    "               'AdaBoostClassifier': AdaBoostClassifier(), \n",
    "               'GradientBoostingClassifier': GradientBoostingClassifier()}\n",
    "\n",
    "for key, classifier in classifiers.items():\n",
    "    print(key)\n",
    "    classifier.fit(X_train, y_train.values.ravel())\n",
    "    classifier_pred = classifier.predict(X_test)\n",
    "    print(classification_report(y_test, classifier_pred))"
   ]
  },
  {
   "cell_type": "markdown",
   "metadata": {},
   "source": [
    "# Undersampling the Majority Class"
   ]
  },
  {
   "cell_type": "markdown",
   "metadata": {},
   "source": [
    "对于多的那部分数据，按照一定比例随机采样"
   ]
  },
  {
   "cell_type": "code",
   "execution_count": 25,
   "metadata": {},
   "outputs": [
    {
     "name": "stdout",
     "output_type": "stream",
     "text": [
      "(790, 31)\n"
     ]
    },
    {
     "data": {
      "text/html": [
       "<div>\n",
       "<style scoped>\n",
       "    .dataframe tbody tr th:only-of-type {\n",
       "        vertical-align: middle;\n",
       "    }\n",
       "\n",
       "    .dataframe tbody tr th {\n",
       "        vertical-align: top;\n",
       "    }\n",
       "\n",
       "    .dataframe thead th {\n",
       "        text-align: right;\n",
       "    }\n",
       "</style>\n",
       "<table border=\"1\" class=\"dataframe\">\n",
       "  <thead>\n",
       "    <tr style=\"text-align: right;\">\n",
       "      <th></th>\n",
       "      <th>Time</th>\n",
       "      <th>V1</th>\n",
       "      <th>V2</th>\n",
       "      <th>V3</th>\n",
       "      <th>V4</th>\n",
       "      <th>V5</th>\n",
       "      <th>V6</th>\n",
       "      <th>V7</th>\n",
       "      <th>V8</th>\n",
       "      <th>V9</th>\n",
       "      <th>...</th>\n",
       "      <th>V21</th>\n",
       "      <th>V22</th>\n",
       "      <th>V23</th>\n",
       "      <th>V24</th>\n",
       "      <th>V25</th>\n",
       "      <th>V26</th>\n",
       "      <th>V27</th>\n",
       "      <th>V28</th>\n",
       "      <th>Amount</th>\n",
       "      <th>Class</th>\n",
       "    </tr>\n",
       "  </thead>\n",
       "  <tbody>\n",
       "    <tr>\n",
       "      <th>203961</th>\n",
       "      <td>-0.087849</td>\n",
       "      <td>1.939908</td>\n",
       "      <td>-0.223991</td>\n",
       "      <td>-1.416081</td>\n",
       "      <td>0.620650</td>\n",
       "      <td>-0.037574</td>\n",
       "      <td>-1.220199</td>\n",
       "      <td>0.399722</td>\n",
       "      <td>-0.354672</td>\n",
       "      <td>0.483971</td>\n",
       "      <td>...</td>\n",
       "      <td>-0.118096</td>\n",
       "      <td>-0.354423</td>\n",
       "      <td>0.170272</td>\n",
       "      <td>-0.012223</td>\n",
       "      <td>-0.102699</td>\n",
       "      <td>0.182584</td>\n",
       "      <td>-0.084522</td>\n",
       "      <td>-0.056200</td>\n",
       "      <td>-0.087849</td>\n",
       "      <td>0</td>\n",
       "    </tr>\n",
       "    <tr>\n",
       "      <th>204291</th>\n",
       "      <td>-0.347750</td>\n",
       "      <td>-0.242245</td>\n",
       "      <td>4.147186</td>\n",
       "      <td>-5.672349</td>\n",
       "      <td>6.493741</td>\n",
       "      <td>1.591168</td>\n",
       "      <td>-1.602523</td>\n",
       "      <td>-0.950463</td>\n",
       "      <td>0.722903</td>\n",
       "      <td>-4.128505</td>\n",
       "      <td>...</td>\n",
       "      <td>0.249023</td>\n",
       "      <td>-0.480286</td>\n",
       "      <td>-0.286080</td>\n",
       "      <td>-1.153575</td>\n",
       "      <td>-0.035571</td>\n",
       "      <td>0.559628</td>\n",
       "      <td>0.409446</td>\n",
       "      <td>0.221048</td>\n",
       "      <td>-0.347750</td>\n",
       "      <td>1</td>\n",
       "    </tr>\n",
       "    <tr>\n",
       "      <th>13798</th>\n",
       "      <td>0.047944</td>\n",
       "      <td>-27.848181</td>\n",
       "      <td>15.598193</td>\n",
       "      <td>-28.923756</td>\n",
       "      <td>6.418442</td>\n",
       "      <td>-20.346228</td>\n",
       "      <td>-4.828202</td>\n",
       "      <td>-19.210896</td>\n",
       "      <td>18.329406</td>\n",
       "      <td>-3.668735</td>\n",
       "      <td>...</td>\n",
       "      <td>1.802149</td>\n",
       "      <td>-2.062934</td>\n",
       "      <td>-1.269843</td>\n",
       "      <td>0.165409</td>\n",
       "      <td>1.999499</td>\n",
       "      <td>-0.211059</td>\n",
       "      <td>1.324809</td>\n",
       "      <td>0.388090</td>\n",
       "      <td>0.047944</td>\n",
       "      <td>1</td>\n",
       "    </tr>\n",
       "    <tr>\n",
       "      <th>8458</th>\n",
       "      <td>-0.346833</td>\n",
       "      <td>-5.268053</td>\n",
       "      <td>9.067613</td>\n",
       "      <td>-15.960728</td>\n",
       "      <td>10.296603</td>\n",
       "      <td>-4.708241</td>\n",
       "      <td>-3.395375</td>\n",
       "      <td>-11.161057</td>\n",
       "      <td>5.499963</td>\n",
       "      <td>-5.667376</td>\n",
       "      <td>...</td>\n",
       "      <td>2.004110</td>\n",
       "      <td>0.191058</td>\n",
       "      <td>0.622928</td>\n",
       "      <td>-1.209264</td>\n",
       "      <td>-0.374799</td>\n",
       "      <td>0.648798</td>\n",
       "      <td>1.584697</td>\n",
       "      <td>0.720056</td>\n",
       "      <td>-0.346833</td>\n",
       "      <td>1</td>\n",
       "    </tr>\n",
       "    <tr>\n",
       "      <th>34643</th>\n",
       "      <td>1.101586</td>\n",
       "      <td>-16.526507</td>\n",
       "      <td>8.584972</td>\n",
       "      <td>-18.649853</td>\n",
       "      <td>9.505594</td>\n",
       "      <td>-13.793819</td>\n",
       "      <td>-2.832404</td>\n",
       "      <td>-16.701694</td>\n",
       "      <td>7.517344</td>\n",
       "      <td>-8.507059</td>\n",
       "      <td>...</td>\n",
       "      <td>1.190739</td>\n",
       "      <td>-1.127670</td>\n",
       "      <td>-2.358579</td>\n",
       "      <td>0.673461</td>\n",
       "      <td>-1.413700</td>\n",
       "      <td>-0.462762</td>\n",
       "      <td>-2.018575</td>\n",
       "      <td>-1.042804</td>\n",
       "      <td>1.101586</td>\n",
       "      <td>1</td>\n",
       "    </tr>\n",
       "  </tbody>\n",
       "</table>\n",
       "<p>5 rows × 31 columns</p>\n",
       "</div>"
      ],
      "text/plain": [
       "            Time         V1         V2         V3         V4         V5  \\\n",
       "203961 -0.087849   1.939908  -0.223991  -1.416081   0.620650  -0.037574   \n",
       "204291 -0.347750  -0.242245   4.147186  -5.672349   6.493741   1.591168   \n",
       "13798   0.047944 -27.848181  15.598193 -28.923756   6.418442 -20.346228   \n",
       "8458   -0.346833  -5.268053   9.067613 -15.960728  10.296603  -4.708241   \n",
       "34643   1.101586 -16.526507   8.584972 -18.649853   9.505594 -13.793819   \n",
       "\n",
       "              V6         V7         V8        V9  ...         V21       V22  \\\n",
       "203961 -1.220199   0.399722  -0.354672  0.483971  ...   -0.118096 -0.354423   \n",
       "204291 -1.602523  -0.950463   0.722903 -4.128505  ...    0.249023 -0.480286   \n",
       "13798  -4.828202 -19.210896  18.329406 -3.668735  ...    1.802149 -2.062934   \n",
       "8458   -3.395375 -11.161057   5.499963 -5.667376  ...    2.004110  0.191058   \n",
       "34643  -2.832404 -16.701694   7.517344 -8.507059  ...    1.190739 -1.127670   \n",
       "\n",
       "             V23       V24       V25       V26       V27       V28    Amount  \\\n",
       "203961  0.170272 -0.012223 -0.102699  0.182584 -0.084522 -0.056200 -0.087849   \n",
       "204291 -0.286080 -1.153575 -0.035571  0.559628  0.409446  0.221048 -0.347750   \n",
       "13798  -1.269843  0.165409  1.999499 -0.211059  1.324809  0.388090  0.047944   \n",
       "8458    0.622928 -1.209264 -0.374799  0.648798  1.584697  0.720056 -0.346833   \n",
       "34643  -2.358579  0.673461 -1.413700 -0.462762 -2.018575 -1.042804  1.101586   \n",
       "\n",
       "        Class  \n",
       "203961      0  \n",
       "204291      1  \n",
       "13798       1  \n",
       "8458        1  \n",
       "34643       1  \n",
       "\n",
       "[5 rows x 31 columns]"
      ]
     },
     "execution_count": 25,
     "metadata": {},
     "output_type": "execute_result"
    }
   ],
   "source": [
    "train = train.sample(frac=1) # shuffle the data\n",
    "fraud_df = train.loc[train['Class'] == 1]\n",
    "non_fraud_df = train.loc[train['Class'] != 1][:395]\n",
    "\n",
    "normal_distributed_df = pd.concat([fraud_df, non_fraud_df])\n",
    "\n",
    "# shuffle the rows\n",
    "new_df = normal_distributed_df.sample(frac=1, random_state=42)\n",
    "print(new_df.shape)\n",
    "new_df.head()\n"
   ]
  },
  {
   "cell_type": "code",
   "execution_count": 26,
   "metadata": {},
   "outputs": [],
   "source": [
    "X = new_df.drop('Class', axis=1)\n",
    "y = new_df['Class']"
   ]
  },
  {
   "cell_type": "code",
   "execution_count": 27,
   "metadata": {},
   "outputs": [],
   "source": [
    "X_train_under, X_test_under, y_train_under, y_test_under = train_test_split(X, y, test_size=0.2, random_state=42)"
   ]
  },
  {
   "cell_type": "code",
   "execution_count": 33,
   "metadata": {},
   "outputs": [
    {
     "name": "stdout",
     "output_type": "stream",
     "text": [
      "LogisticRegression\n",
      "Classifiers:  LogisticRegression has a training score of 93.0 % f1 score\n",
      "DecisionTreeClassifier\n",
      "Classifiers:  DecisionTreeClassifier has a training score of 90.0 % f1 score\n",
      "RandomForestClassifier\n",
      "Classifiers:  RandomForestClassifier has a training score of 93.0 % f1 score\n",
      "AdaBoostClassifier\n",
      "Classifiers:  AdaBoostClassifier has a training score of 92.0 % f1 score\n",
      "GradientBoostingClassifier\n",
      "Classifiers:  GradientBoostingClassifier has a training score of 93.0 % f1 score\n"
     ]
    }
   ],
   "source": [
    "from sklearn.model_selection import cross_val_score\n",
    "\n",
    "classifiers = {'LogisticRegression': LogisticRegression(),\n",
    "               'DecisionTreeClassifier': DecisionTreeClassifier(), \n",
    "               'RandomForestClassifier': RandomForestClassifier(),\n",
    "               'AdaBoostClassifier': AdaBoostClassifier(), \n",
    "               'GradientBoostingClassifier': GradientBoostingClassifier()}\n",
    "\n",
    "for key, classifier in classifiers.items():\n",
    "    print(key)\n",
    "    classifier.fit(X_train_under, y_train_under.values.ravel())\n",
    "    training_score = cross_val_score(classifier, X_train_under, y_train_under.values.ravel(), cv=5, scoring='f1')\n",
    "    print(\"Classifiers: \", classifier.__class__.__name__, \"has a training score of\", round(training_score.mean(), 2) * 100, \"% f1 score\")"
   ]
  },
  {
   "cell_type": "code",
   "execution_count": 85,
   "metadata": {},
   "outputs": [
    {
     "name": "stderr",
     "output_type": "stream",
     "text": [
      "/Users/jingjingy/Python/anaconda3/lib/python3.6/site-packages/sklearn/metrics/classification.py:1135: UndefinedMetricWarning: F-score is ill-defined and being set to 0.0 due to no predicted samples.\n",
      "  'precision', 'predicted', average, warn_for)\n",
      "/Users/jingjingy/Python/anaconda3/lib/python3.6/site-packages/sklearn/metrics/classification.py:1135: UndefinedMetricWarning: F-score is ill-defined and being set to 0.0 due to no predicted samples.\n",
      "  'precision', 'predicted', average, warn_for)\n",
      "/Users/jingjingy/Python/anaconda3/lib/python3.6/site-packages/sklearn/metrics/classification.py:1135: UndefinedMetricWarning: F-score is ill-defined and being set to 0.0 due to no predicted samples.\n",
      "  'precision', 'predicted', average, warn_for)\n"
     ]
    },
    {
     "name": "stdout",
     "output_type": "stream",
     "text": [
      "{'C': 0.1, 'penalty': 'l2'}\n",
      "{'criterion': 'entropy', 'max_depth': 3, 'min_samples_leaf': 5}\n",
      "{'criterion': 'gini', 'max_depth': 5, 'n_estimators': 200}\n",
      "{'learning_rate': 0.1, 'n_estimators': 100}\n",
      "{'criterion': 'friedman_mse', 'learning_rate': 0.3, 'max_features': 'sqrt'}\n"
     ]
    }
   ],
   "source": [
    "from sklearn.model_selection import GridSearchCV\n",
    "\n",
    "# Linear Regression Classifier\n",
    "lr_params = {\"penalty\": ['l1', 'l2'], \n",
    "             'C': [0.001, 0.01, 0.1, 1, 10, 100, 1000]}\n",
    "\n",
    "grid_lr = GridSearchCV(LogisticRegression(), lr_params, scoring='f1')\n",
    "grid_lr.fit(X_train_under, y_train_under.values.ravel())\n",
    "param_lr = grid_lr.best_estimator_\n",
    "print(grid_lr.best_params_)\n",
    "\n",
    "# Decision Tree Classifier\n",
    "dt_params = {\"criterion\": [\"gini\", \"entropy\"], \n",
    "             \"max_depth\": list(range(2,4,1)), \n",
    "             \"min_samples_leaf\": list(range(5,7,1))}\n",
    "grid_dt = GridSearchCV(DecisionTreeClassifier(), dt_params, scoring='f1')\n",
    "grid_dt.fit(X_train, y_train)\n",
    "\n",
    "param_dt = grid_dt.best_estimator_\n",
    "print(grid_dt.best_params_)\n",
    "\n",
    "# Random Forest Classifier\n",
    "rf_params = { 'n_estimators': [200, 500],\n",
    "              'max_depth' : [4,5,6,7,8],\n",
    "              'criterion' :['gini', 'entropy']}\n",
    "grid_rf = GridSearchCV(RandomForestClassifier(), rf_params, scoring='f1')\n",
    "grid_rf.fit(X_train_under, y_train_under.values.ravel())\n",
    "param_rf = grid_rf.best_estimator_\n",
    "print(grid_rf.best_params_)\n",
    "\n",
    "# Adaboost Classifier\n",
    "ab_params = { 'n_estimators': [50, 100],\n",
    "              'learning_rate' : [0.01,0.05,0.1,0.3,1]}\n",
    "grid_ab = GridSearchCV(AdaBoostClassifier(), ab_params, scoring='f1')\n",
    "grid_ab.fit(X_train_under, y_train_under.values.ravel())\n",
    "param_ab = grid_ab.best_estimator_\n",
    "print(grid_ab.best_params_)\n",
    "\n",
    "# Gradient Boosting Classifier\n",
    "gb_params = { \"learning_rate\": [0.01,0.05,0.1,0.3,1],\n",
    "              \"max_features\":[\"log2\",\"sqrt\"],\n",
    "              \"criterion\": [\"friedman_mse\",  \"mae\"]}\n",
    "grid_gb = GridSearchCV(GradientBoostingClassifier(), gb_params, scoring='f1')\n",
    "grid_gb.fit(X_train_under, y_train_under.values.ravel())\n",
    "param_gb = grid_gb.best_estimator_\n",
    "print(grid_gb.best_params_)"
   ]
  },
  {
   "cell_type": "code",
   "execution_count": 86,
   "metadata": {},
   "outputs": [
    {
     "name": "stdout",
     "output_type": "stream",
     "text": [
      "Logistic regression cross validation f1 score:  93.46%\n",
      "Decision Tree cross validation f1 score:  90.68%\n",
      "Random Forest cross validation f1 score:  92.34%\n",
      "Adaboost cross validation f1 score:  93.9%\n",
      "Gradient Boosting cross validation f1 score:  93.4%\n"
     ]
    }
   ],
   "source": [
    "param_lr_score = cross_val_score(param_lr, X_train_under, y_train_under.values.ravel(), cv=5, scoring='f1')\n",
    "print('Logistic regression cross validation f1 score: ', round(param_lr_score.mean() * 100, 2).astype(str) + '%')\n",
    "\n",
    "param_dt_score = cross_val_score(param_dt, X_train_under, y_train_under.values.ravel(), cv=5, scoring='f1')\n",
    "print('Decision Tree cross validation f1 score: ', round(param_dt_score.mean() * 100, 2).astype(str) + '%')\n",
    "\n",
    "param_rf_score = cross_val_score(param_rf, X_train_under, y_train_under.values.ravel(), cv=5, scoring='f1')\n",
    "print('Random Forest cross validation f1 score: ', round(param_rf_score.mean() * 100, 2).astype(str) + '%')\n",
    "\n",
    "param_ab_score = cross_val_score(param_ab, X_train_under, y_train_under.values.ravel(), cv=5, scoring='f1')\n",
    "print('Adaboost cross validation f1 score: ', round(param_ab_score.mean() * 100, 2).astype(str) + '%')\n",
    "\n",
    "param_gb_score = cross_val_score(param_gb, X_train_under, y_train_under.values.ravel(), cv=5, scoring='f1')\n",
    "print('Gradient Boosting cross validation f1 score: ', round(param_gb_score.mean() * 100, 2).astype(str) + '%')"
   ]
  },
  {
   "cell_type": "code",
   "execution_count": 87,
   "metadata": {},
   "outputs": [
    {
     "name": "stdout",
     "output_type": "stream",
     "text": [
      "0.9647058823529412\n"
     ]
    }
   ],
   "source": [
    "pred_under = param_ab.predict(X_test_under)\n",
    "print(f1_score(y_test_under, pred_under))"
   ]
  },
  {
   "cell_type": "markdown",
   "metadata": {},
   "source": [
    "# Oversampling the Minority Class"
   ]
  },
  {
   "cell_type": "markdown",
   "metadata": {},
   "source": [
    "对于少的那部分数据，将其进行扩充"
   ]
  },
  {
   "cell_type": "code",
   "execution_count": 69,
   "metadata": {},
   "outputs": [
    {
     "name": "stdout",
     "output_type": "stream",
     "text": [
      "305\n"
     ]
    }
   ],
   "source": [
    "print(len(y_train[y_train['Class'] == 1]))"
   ]
  },
  {
   "cell_type": "code",
   "execution_count": 76,
   "metadata": {},
   "outputs": [
    {
     "name": "stdout",
     "output_type": "stream",
     "text": [
      "Before OverSampling, counts of label '1': 305\n",
      "Before OverSampling, counts of label '0': 181926 \n",
      "\n"
     ]
    },
    {
     "name": "stderr",
     "output_type": "stream",
     "text": [
      "/Users/jingjingy/Python/anaconda3/lib/python3.6/site-packages/sklearn/utils/validation.py:578: DataConversionWarning: A column-vector y was passed when a 1d array was expected. Please change the shape of y to (n_samples, ), for example using ravel().\n",
      "  y = column_or_1d(y, warn=True)\n"
     ]
    },
    {
     "name": "stdout",
     "output_type": "stream",
     "text": [
      "After OverSampling, the shape of train_X: (363852, 30)\n",
      "After OverSampling, the shape of train_y: (363852,) \n",
      "\n",
      "After OverSampling, counts of label '1': 181926\n",
      "After OverSampling, counts of label '0': 181926\n"
     ]
    }
   ],
   "source": [
    "from imblearn.over_sampling import SMOTE\n",
    "\n",
    "\n",
    "print(\"Before OverSampling, counts of label '1': {}\".format(len(y_train[y_train['Class'] == 1])))\n",
    "print(\"Before OverSampling, counts of label '0': {} \\n\".format(len(y_train[y_train['Class'] == 0])))\n",
    "\n",
    "sm = SMOTE(random_state=2)\n",
    "X_train_res, y_train_res = sm.fit_sample(X_train, y_train)\n",
    "\n",
    "print('After OverSampling, the shape of train_X: {}'.format(X_train_res.shape))\n",
    "print('After OverSampling, the shape of train_y: {} \\n'.format(y_train_res.shape))\n",
    "\n",
    "print(\"After OverSampling, counts of label '1': {}\".format(sum(y_train_res==1)))\n",
    "print(\"After OverSampling, counts of label '0': {}\".format(sum(y_train_res==0)))"
   ]
  },
  {
   "cell_type": "code",
   "execution_count": 77,
   "metadata": {},
   "outputs": [],
   "source": [
    "X_train_over, X_test_over, y_train_over, y_test_over = train_test_split(X_train_res, y_train_res, test_size=0.2, random_state=42)"
   ]
  },
  {
   "cell_type": "code",
   "execution_count": 80,
   "metadata": {},
   "outputs": [
    {
     "name": "stdout",
     "output_type": "stream",
     "text": [
      "{'C': 100, 'penalty': 'l2'}\n"
     ]
    }
   ],
   "source": [
    "from sklearn.model_selection import GridSearchCV\n",
    "from sklearn.linear_model import LogisticRegression\n",
    "from sklearn.metrics import confusion_matrix, precision_recall_curve, auc, roc_auc_score, roc_curve, recall_score, classification_report\n",
    "\n",
    "lr_params = {\"penalty\": ['l1', 'l2'], \n",
    "             'C': [0.001, 0.01, 0.1, 1, 10, 100, 1000]}\n",
    "grid_lr_over = GridSearchCV(LogisticRegression(), lr_params)\n",
    "grid_lr_over.fit(X_train_over, y_train_over)\n",
    "param_lr_over = grid_lr_over.best_estimator_\n",
    "print(grid_lr_over.best_params_)"
   ]
  },
  {
   "cell_type": "code",
   "execution_count": 82,
   "metadata": {},
   "outputs": [
    {
     "name": "stdout",
     "output_type": "stream",
     "text": [
      "             precision    recall  f1-score   support\n",
      "\n",
      "          0       0.94      0.97      0.96    145494\n",
      "          1       0.97      0.94      0.95    145587\n",
      "\n",
      "avg / total       0.96      0.96      0.96    291081\n",
      "\n",
      "0.9549518689661439\n"
     ]
    }
   ],
   "source": [
    "# training f1 score\n",
    "param_lr_score_over = param_lr_over.predict(X_train_over)\n",
    "print(classification_report(y_train_over, param_lr_score_over))\n",
    "oversampling_train_f1 = f1_score(y_train_over, param_lr_score_over)\n",
    "print(oversampling_train_f1)"
   ]
  },
  {
   "cell_type": "code",
   "execution_count": 84,
   "metadata": {},
   "outputs": [
    {
     "name": "stdout",
     "output_type": "stream",
     "text": [
      "             precision    recall  f1-score   support\n",
      "\n",
      "          0       0.94      0.97      0.96     36432\n",
      "          1       0.97      0.94      0.95     36339\n",
      "\n",
      "avg / total       0.96      0.96      0.96     72771\n",
      "\n",
      "0.9545715767489452\n"
     ]
    }
   ],
   "source": [
    "# testing f1 score\n",
    "y_pre = param_lr_over.predict(X_test_over)\n",
    "print(classification_report(y_test_over, y_pre))\n",
    "oversampling_test_f1 = f1_score(y_test_over, y_pre)\n",
    "print(oversampling_test_f1)"
   ]
  }
 ],
 "metadata": {
  "kernelspec": {
   "display_name": "Python 3",
   "language": "python",
   "name": "python3"
  },
  "language_info": {
   "codemirror_mode": {
    "name": "ipython",
    "version": 3
   },
   "file_extension": ".py",
   "mimetype": "text/x-python",
   "name": "python",
   "nbconvert_exporter": "python",
   "pygments_lexer": "ipython3",
   "version": "3.6.4"
  }
 },
 "nbformat": 4,
 "nbformat_minor": 2
}
