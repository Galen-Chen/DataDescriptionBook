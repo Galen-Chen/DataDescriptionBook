{
 "cells": [
  {
   "cell_type": "code",
   "execution_count": 19,
   "metadata": {},
   "outputs": [
    {
     "name": "stdout",
     "output_type": "stream",
     "text": [
      "7086\n"
     ]
    }
   ],
   "source": [
    "import os\n",
    "import pandas as pd\n",
    "import numpy as np\n",
    "from sklearn.utils import shuffle\n",
    "from sklearn.model_selection import train_test_split\n",
    "\n",
    "DATA_DIR = \"./data\"\n",
    "\n",
    "maxlen = 0\n",
    "num_recs = 0\n",
    "label = []\n",
    "sentence = []\n",
    "\n",
    "# read from training.txt file\n",
    "ftrain = open(os.path.join(DATA_DIR, \"training.txt\"), 'r')\n",
    "for line in ftrain:\n",
    "    l, s = line.strip().split(\"\\t\")\n",
    "    num_recs += 1\n",
    "    label.append(l)\n",
    "    sentence.append(s)\n",
    "ftrain.close()\n",
    "\n",
    "print(num_recs)\n",
    "\n",
    "COLUMN_NAMES = ['sentence', 'label']\n",
    "df = pd.DataFrame(columns=COLUMN_NAMES)\n",
    "ll = pd.Series(label)\n",
    "df['sentence'] = ss.values\n",
    "ss = pd.Series(sentence)\n",
    "df['label'] = ll.values"
   ]
  },
  {
   "cell_type": "code",
   "execution_count": 20,
   "metadata": {},
   "outputs": [
    {
     "name": "stdout",
     "output_type": "stream",
     "text": [
      "                                            sentence label\n",
      "0            The Da Vinci Code book is just awesome.     1\n",
      "1  this was the first clive cussler i've ever rea...     1\n",
      "2                   i liked the Da Vinci Code a lot.     1\n",
      "3                   i liked the Da Vinci Code a lot.     1\n",
      "4  I liked the Da Vinci Code but it ultimatly did...     1\n"
     ]
    }
   ],
   "source": [
    "print(df.head())"
   ]
  },
  {
   "cell_type": "code",
   "execution_count": 21,
   "metadata": {},
   "outputs": [
    {
     "name": "stdout",
     "output_type": "stream",
     "text": [
      "                                               sentence label\n",
      "1244  the last stand and Mission Impossible 3 both w...     1\n",
      "6893  As I sit here, watching the MTV Movie Awards, ...     0\n",
      "983               da vinci code was an awesome movie...     1\n",
      "260   I wanted desperately to love'The Da Vinci Code...     1\n",
      "5351                               I hate Harry Potter.     0\n"
     ]
    }
   ],
   "source": [
    "df = shuffle(df)\n",
    "print(df.head())"
   ]
  },
  {
   "cell_type": "code",
   "execution_count": 22,
   "metadata": {},
   "outputs": [],
   "source": [
    "Xtrain, Xtest = train_test_split(df, test_size=0.2, random_state=42, shuffle=True)"
   ]
  },
  {
   "cell_type": "code",
   "execution_count": 26,
   "metadata": {},
   "outputs": [
    {
     "name": "stdout",
     "output_type": "stream",
     "text": [
      "                                               sentence label\n",
      "6924    Ok brokeback mountain is such a horrible movie.     0\n",
      "3638                 Brokeback Mountain was so awesome.     1\n",
      "4744  friday hung out with kelsie and we went and sa...     0\n",
      "2752  I am going to start reading the Harry Potter s...     1\n",
      "5998       Is it just me, or does Harry Potter suck?...     0\n",
      "                                               sentence label\n",
      "1963            I liked the first \" Mission Impossible.     1\n",
      "2379                              I love Harry Potter..     1\n",
      "5462  Not because I hate Harry Potter, but because I...     0\n",
      "2417  the story of Harry Potter is a deep and profou...     1\n",
      "6180  The complaints I've seen about the \" Vito-bein...     0\n"
     ]
    }
   ],
   "source": [
    "print(Xtrain.head())\n",
    "print(Xtest.head())"
   ]
  },
  {
   "cell_type": "code",
   "execution_count": 29,
   "metadata": {},
   "outputs": [
    {
     "name": "stdout",
     "output_type": "stream",
     "text": [
      "                                               sentence\n",
      "1963            I liked the first \" Mission Impossible.\n",
      "2379                              I love Harry Potter..\n",
      "5462  Not because I hate Harry Potter, but because I...\n",
      "2417  the story of Harry Potter is a deep and profou...\n",
      "6180  The complaints I've seen about the \" Vito-bein...\n"
     ]
    }
   ],
   "source": [
    "Xtest_nol = Xtest.drop(columns=['label'])\n",
    "print(Xtest_nol.head())"
   ]
  },
  {
   "cell_type": "code",
   "execution_count": 30,
   "metadata": {},
   "outputs": [],
   "source": [
    "Xtrain.to_csv(os.path.join(DATA_DIR, \"train.csv\"), index=False)\n",
    "Xtest_nol.to_csv(os.path.join(DATA_DIR, \"test.csv\"), index=False)\n",
    "Xtest.to_csv(os.path.join(DATA_DIR, \"result.csv\"), index=False)"
   ]
  },
  {
   "cell_type": "code",
   "execution_count": null,
   "metadata": {},
   "outputs": [],
   "source": []
  }
 ],
 "metadata": {
  "kernelspec": {
   "display_name": "Python 3",
   "language": "python",
   "name": "python3"
  },
  "language_info": {
   "codemirror_mode": {
    "name": "ipython",
    "version": 3
   },
   "file_extension": ".py",
   "mimetype": "text/x-python",
   "name": "python",
   "nbconvert_exporter": "python",
   "pygments_lexer": "ipython3",
   "version": "3.6.4"
  }
 },
 "nbformat": 4,
 "nbformat_minor": 2
}
