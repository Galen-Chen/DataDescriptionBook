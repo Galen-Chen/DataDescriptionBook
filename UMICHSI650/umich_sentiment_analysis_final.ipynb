{
 "cells": [
  {
   "cell_type": "code",
   "execution_count": 107,
   "metadata": {},
   "outputs": [],
   "source": [
    "import numpy as np\n",
    "import collections\n",
    "from matplotlib import pyplot as plt\n",
    "import tensorflow as tf\n",
    "import pandas as pd\n",
    "import os\n",
    "import nltk\n",
    "from keras.preprocessing import sequence\n",
    "%matplotlib inline"
   ]
  },
  {
   "cell_type": "code",
   "execution_count": 108,
   "metadata": {},
   "outputs": [
    {
     "data": {
      "text/html": [
       "<div>\n",
       "<style scoped>\n",
       "    .dataframe tbody tr th:only-of-type {\n",
       "        vertical-align: middle;\n",
       "    }\n",
       "\n",
       "    .dataframe tbody tr th {\n",
       "        vertical-align: top;\n",
       "    }\n",
       "\n",
       "    .dataframe thead th {\n",
       "        text-align: right;\n",
       "    }\n",
       "</style>\n",
       "<table border=\"1\" class=\"dataframe\">\n",
       "  <thead>\n",
       "    <tr style=\"text-align: right;\">\n",
       "      <th></th>\n",
       "      <th>sentence</th>\n",
       "      <th>label</th>\n",
       "    </tr>\n",
       "  </thead>\n",
       "  <tbody>\n",
       "    <tr>\n",
       "      <th>0</th>\n",
       "      <td>I hate Harry Potter.</td>\n",
       "      <td>0</td>\n",
       "    </tr>\n",
       "    <tr>\n",
       "      <th>1</th>\n",
       "      <td>The first action theme to be played as the fir...</td>\n",
       "      <td>1</td>\n",
       "    </tr>\n",
       "    <tr>\n",
       "      <th>2</th>\n",
       "      <td>Always knows what I want, not guy crazy, hates...</td>\n",
       "      <td>0</td>\n",
       "    </tr>\n",
       "    <tr>\n",
       "      <th>3</th>\n",
       "      <td>Is it just me, or does Harry Potter suck?...</td>\n",
       "      <td>0</td>\n",
       "    </tr>\n",
       "    <tr>\n",
       "      <th>4</th>\n",
       "      <td>friday hung out with kelsie and we went and sa...</td>\n",
       "      <td>0</td>\n",
       "    </tr>\n",
       "  </tbody>\n",
       "</table>\n",
       "</div>"
      ],
      "text/plain": [
       "                                            sentence  label\n",
       "0                               I hate Harry Potter.      0\n",
       "1  The first action theme to be played as the fir...      1\n",
       "2  Always knows what I want, not guy crazy, hates...      0\n",
       "3       Is it just me, or does Harry Potter suck?...      0\n",
       "4  friday hung out with kelsie and we went and sa...      0"
      ]
     },
     "execution_count": 108,
     "metadata": {},
     "output_type": "execute_result"
    }
   ],
   "source": [
    "DATA_DIR = \"./data\"\n",
    "\n",
    "train_data = pd.read_csv(os.path.join(DATA_DIR, \"train.csv\"))\n",
    "train_data.head()"
   ]
  },
  {
   "cell_type": "code",
   "execution_count": 109,
   "metadata": {},
   "outputs": [
    {
     "name": "stdout",
     "output_type": "stream",
     "text": [
      "5668\n"
     ]
    }
   ],
   "source": [
    "num_recs = len(train_data) # number of total sentences\n",
    "print(num_recs)"
   ]
  },
  {
   "cell_type": "code",
   "execution_count": 110,
   "metadata": {},
   "outputs": [
    {
     "name": "stdout",
     "output_type": "stream",
     "text": [
      "2094\n",
      "42\n"
     ]
    }
   ],
   "source": [
    "maxlen = 0 # maximum sentence length\n",
    "word_freqs = collections.Counter() # word frequency\n",
    "\n",
    "for index, row in train_data.iterrows():\n",
    "    words = nltk.word_tokenize(row['sentence'].lower())\n",
    "    if (len(words) > maxlen):\n",
    "        maxlen = len(words)\n",
    "    for word in words:\n",
    "        word_freqs[word] += 1\n",
    "print(len(word_freqs))\n",
    "print(maxlen)\n",
    "\n",
    "# word_freqs: (word, freqs)"
   ]
  },
  {
   "cell_type": "code",
   "execution_count": 111,
   "metadata": {},
   "outputs": [],
   "source": [
    "MAX_FEATURES = 2094 # number of unique words\n",
    "MAX_SENTENCE_LENGTH = 42 # maximum sentence length"
   ]
  },
  {
   "cell_type": "code",
   "execution_count": 112,
   "metadata": {},
   "outputs": [],
   "source": [
    "vocab_size = MAX_FEATURES + 2\n",
    "word2index = word2index = {x[0]: i+2 for i, x in enumerate(word_freqs.most_common(MAX_FEATURES))}\n",
    "# word_freqs: (word, count)\n",
    "\n",
    "word2index[\"PAD\"] = 0\n",
    "word2index[\"UNK\"] = 1\n",
    "# word2index: (word, index), from most to least\n",
    "\n",
    "index2word = {v:k for k, v in word2index.items()}\n",
    "# word2index: (index, word), from most to least"
   ]
  },
  {
   "cell_type": "code",
   "execution_count": 113,
   "metadata": {
    "scrolled": false
   },
   "outputs": [],
   "source": [
    "# print(word2index)"
   ]
  },
  {
   "cell_type": "code",
   "execution_count": 132,
   "metadata": {},
   "outputs": [],
   "source": [
    "data_X_in = np.empty((num_recs, ), dtype=list)\n",
    "data_y = np.zeros((num_recs, ))\n",
    "i = 0\n",
    "\n",
    "for index, row in train_data.iterrows():\n",
    "    words = nltk.word_tokenize(row['sentence'].lower())\n",
    "    seqs = []\n",
    "    for word in words:\n",
    "        if word in word2index:\n",
    "            seqs.append(word2index[word])\n",
    "        else:\n",
    "            seqs.append(word2index[\"UNK\"])\n",
    "    data_X_in[i] = seqs\n",
    "    data_y[i] = int(row['label'])\n",
    "    i += 1"
   ]
  },
  {
   "cell_type": "code",
   "execution_count": 135,
   "metadata": {},
   "outputs": [],
   "source": [
    "data_X_in = sequence.pad_sequences(data_X_in, padding='post', value=word2index['PAD'], maxlen=MAX_SENTENCE_LENGTH)"
   ]
  },
  {
   "cell_type": "code",
   "execution_count": 137,
   "metadata": {},
   "outputs": [
    {
     "name": "stdout",
     "output_type": "stream",
     "text": [
      "[[  2  30   7  14   4   0   0   0   0   0   0   0   0   0   0   0   0   0\n",
      "    0   0   0   0   0   0   0   0   0   0   0   0   0   0   0   0   0   0\n",
      "    0   0   0   0   0   0]\n",
      " [  5 111 388 365  25  49 450  34   5 586 110 378  19   5 587  20  21 151\n",
      "  365  61  19  18 106 588  25   5 589   3 590   6 591 492  89 592   4   0\n",
      "    0   0   0   0   0   0]\n",
      " [152 159 127   2  63   3  73  87 171   3 166   7  50   0   0   0   0   0\n",
      "    0   0   0   0   0   0   0   0   0   0   0   0   0   0   0   0   0   0\n",
      "    0   0   0   0   0   0]\n",
      " [ 17  24  47  67   3  57 172   7  14  53 160  15   0   0   0   0   0   0\n",
      "    0   0   0   0   0   0   0   0   0   0   0   0   0   0   0   0   0   0\n",
      "    0   0   0   0   0   0]\n",
      " [157 200  52  45 201   6  44 110   6 117   5  12  10  13  32   8   8   8\n",
      "    8   8   0   0   0   0   0   0   0   0   0   0   0   0   0   0   0   0\n",
      "    0   0   0   0   0   0]]\n",
      "(5668, 42)\n"
     ]
    }
   ],
   "source": [
    "print(data_X_in[:5])\n",
    "print(data_X_in.shape)"
   ]
  },
  {
   "cell_type": "code",
   "execution_count": 138,
   "metadata": {},
   "outputs": [
    {
     "name": "stdout",
     "output_type": "stream",
     "text": [
      "[0. 1. 0. 0. 0.]\n",
      "(5668,)\n"
     ]
    }
   ],
   "source": [
    "print(data_y[:5])\n",
    "print(data_y.shape)"
   ]
  },
  {
   "cell_type": "code",
   "execution_count": 139,
   "metadata": {},
   "outputs": [],
   "source": [
    "def data_generator(batch_size):\n",
    "    while True:\n",
    "        for i in range(0,len(data_X_in),batch_size):\n",
    "            if i + batch_size < len(data_X_in):\n",
    "                yield data_X_in[i:i + batch_size], data_y[i:i + batch_size]"
   ]
  },
  {
   "cell_type": "markdown",
   "metadata": {},
   "source": [
    "## Model Part"
   ]
  },
  {
   "cell_type": "code",
   "execution_count": 184,
   "metadata": {},
   "outputs": [],
   "source": [
    "batch_size = 24\n",
    "embedding_size = 100\n",
    "vocab_size = MAX_FEATURES + 2\n",
    "num_units = 64\n",
    "NUM_EPOCHS = 10"
   ]
  },
  {
   "cell_type": "code",
   "execution_count": 190,
   "metadata": {},
   "outputs": [],
   "source": [
    "import tensorflow as tf\n",
    "import tflearn\n",
    "tf.reset_default_graph()\n",
    "config = tf.ConfigProto(log_device_placement=True,allow_soft_placement = True)\n",
    "config.gpu_options.allow_growth = True\n",
    "#config.gpu_options.per_process_gpu_memory_fraction = 0.4\n",
    "session = tf.Session(config=config)"
   ]
  },
  {
   "cell_type": "code",
   "execution_count": 191,
   "metadata": {},
   "outputs": [],
   "source": [
    "tf.reset_default_graph()\n",
    "config = tf.ConfigProto(log_device_placement=True,allow_soft_placement = True)\n",
    "config.gpu_options.allow_growth = True\n",
    "#config.gpu_options.per_process_gpu_memory_fraction = 0.4\n",
    "session = tf.Session(config=config)\n",
    "\n",
    "with tf.device('/gpu:1'):\n",
    "    initializer = tf.random_uniform_initializer(\n",
    "        -0.08, 0.08)\n",
    "    tf.get_variable_scope().set_initializer(initializer)\n",
    "    x = tf.placeholder(\"int32\", [None, None])\n",
    "    y = tf.placeholder(\"int32\", [None])\n",
    "    x_len = tf.placeholder(\"int32\",[None])\n",
    "    \n",
    "    learning_rate = tf.placeholder(tf.float32, shape=[])\n",
    "    \n",
    "    # embedding\n",
    "    embedding_encoder = tf.get_variable(\n",
    "        \"embedding_encoder\", [vocab_size, embedding_size],dtype=tf.float32)\n",
    "    encoder_emb_inp = tf.nn.embedding_lookup(\n",
    "        embedding_encoder, x)\n",
    "    \n",
    "    # Build RNN cell\n",
    "    encoder_cell = tf.contrib.rnn.BasicLSTMCell(num_units)\n",
    "    \n",
    "    encoder_cell = tf.contrib.rnn.DropoutWrapper(cell=encoder_cell, output_keep_prob=0.75)\n",
    "    # Run Dynamic RNN\n",
    "    #   encoder_outputs: [max_time, batch_size, num_units]\n",
    "    #   encoder_state: [batch_size, num_units]\n",
    "    encoder_outputs, encoder_state = tf.nn.dynamic_rnn(\n",
    "        encoder_cell, encoder_emb_inp,\n",
    "        sequence_length=x_len, time_major=False,dtype=tf.float32)\n",
    "    \n",
    "    model_logistic = tf.layers.dense(encoder_state[0],1)\n",
    "    model_pred = tf.nn.sigmoid(model_logistic)\n",
    "    loss = tf.nn.sigmoid_cross_entropy_with_logits(labels=tf.cast(y,tf.float32),logits=tf.reshape(model_logistic,(-1,)))\n",
    "    loss = tf.reduce_mean(loss)\n",
    "    optimizer = tf.train.AdamOptimizer().minimize(loss)"
   ]
  },
  {
   "cell_type": "code",
   "execution_count": 192,
   "metadata": {},
   "outputs": [],
   "source": [
    "session.run(tf.global_variables_initializer())"
   ]
  },
  {
   "cell_type": "code",
   "execution_count": 193,
   "metadata": {},
   "outputs": [
    {
     "name": "stdout",
     "output_type": "stream",
     "text": [
      "EPOCH 0 batch 5664 lr 0.1 loss 0.1634032279253006 100.35 % [==================================================>] 5688/5668 \t used:15s eta:0 s"
     ]
    }
   ],
   "source": [
    "from utils import ProgressBar\n",
    "\n",
    "losses = []\n",
    "beginning_lr = 0.1\n",
    "gen = data_generator(batch_size)\n",
    "for one_epoch in range(0,1):\n",
    "    pb = ProgressBar(worksum=len(data_X_in))\n",
    "    pb.startjob()\n",
    "    for one_batch in range(0,len(data_X_in),batch_size):\n",
    "        batch_x,batch_y = gen.__next__()\n",
    "        batch_x_len = np.asarray([len(i) for i in batch_x])\n",
    "        batch_lr = beginning_lr \n",
    "        \n",
    "        _,batch_loss = session.run([optimizer,loss],feed_dict={\n",
    "            x:batch_x,\n",
    "            y:batch_y,\n",
    "            x_len:batch_x_len,\n",
    "            learning_rate:batch_lr,\n",
    "        })\n",
    "        pb.info = \"EPOCH {} batch {} lr {} loss {}\".format(one_epoch,one_batch,batch_lr,batch_loss)\n",
    "        pb.complete(batch_size)\n",
    "        losses.append(batch_loss)"
   ]
  },
  {
   "cell_type": "code",
   "execution_count": 194,
   "metadata": {},
   "outputs": [
    {
     "data": {
      "text/plain": [
       "<matplotlib.axes._subplots.AxesSubplot at 0x1058bc748>"
      ]
     },
     "execution_count": 194,
     "metadata": {},
     "output_type": "execute_result"
    },
    {
     "data": {
      "image/png": "[encoded data removed]",
      "text/plain": [
       "<matplotlib.figure.Figure at 0x10589de80>"
      ]
     },
     "metadata": {},
     "output_type": "display_data"
    }
   ],
   "source": [
    "%matplotlib inline\n",
    "pd.DataFrame(losses).plot()\n"
   ]
  },
  {
   "cell_type": "markdown",
   "metadata": {},
   "source": [
    "## run predict "
   ]
  },
  {
   "cell_type": "code",
   "execution_count": 258,
   "metadata": {},
   "outputs": [
    {
     "name": "stdout",
     "output_type": "stream",
     "text": [
      "                                            sentence\n",
      "0            I liked the first \" Mission Impossible.\n",
      "1                              I love Harry Potter..\n",
      "2  Not because I hate Harry Potter, but because I...\n",
      "3  the story of Harry Potter is a deep and profou...\n",
      "4  The complaints I've seen about the \" Vito-bein...\n",
      "1418\n"
     ]
    }
   ],
   "source": [
    "test_data = pd.read_csv(os.path.join(DATA_DIR, \"test.csv\"))\n",
    "print(test_data.head())\n",
    "\n",
    "test_recs = len(test_data)\n",
    "print(test_recs)"
   ]
  },
  {
   "cell_type": "code",
   "execution_count": 259,
   "metadata": {},
   "outputs": [],
   "source": [
    "def predict_result(sent):\n",
    "    words = nltk.word_tokenize(row['sentence'].lower())\n",
    "    senttoken = [word2index.get(word,word2index['UNK']) for word in words]\n",
    "    inputx = np.asarray([senttoken])\n",
    "    inputx_len = np.asarray([len(senttoken)])\n",
    "    batch_predict = session.run(model_pred,feed_dict={\n",
    "            x:inputx,\n",
    "            x_len:inputx_len,\n",
    "        })[0]\n",
    "    return 1 if batch_predict > 0.5 else 0"
   ]
  },
  {
   "cell_type": "code",
   "execution_count": 260,
   "metadata": {},
   "outputs": [],
   "source": [
    "labels = []\n",
    "for index, row in test_data.iterrows():\n",
    "    label = predict_result(row['sentence'])\n",
    "    labels.append(label)"
   ]
  },
  {
   "cell_type": "code",
   "execution_count": 261,
   "metadata": {},
   "outputs": [
    {
     "name": "stdout",
     "output_type": "stream",
     "text": [
      "1418\n"
     ]
    }
   ],
   "source": [
    "print(len(labels))"
   ]
  },
  {
   "cell_type": "code",
   "execution_count": 262,
   "metadata": {},
   "outputs": [
    {
     "name": "stdout",
     "output_type": "stream",
     "text": [
      "(1418, 2)\n"
     ]
    }
   ],
   "source": [
    "COLUMN_NAMES = ['sentence', 'label']\n",
    "df = pd.DataFrame(columns=COLUMN_NAMES)\n",
    "\n",
    "df['sentence'] = test_data['sentence']\n",
    "ll = pd.Series(labels)\n",
    "df['label'] = ll.values\n",
    "print(df.shape)"
   ]
  },
  {
   "cell_type": "code",
   "execution_count": 263,
   "metadata": {},
   "outputs": [
    {
     "name": "stdout",
     "output_type": "stream",
     "text": [
      "                                            sentence  label\n",
      "0            I liked the first \" Mission Impossible.      1\n",
      "1                              I love Harry Potter..      1\n",
      "2  Not because I hate Harry Potter, but because I...      0\n",
      "3  the story of Harry Potter is a deep and profou...      1\n",
      "4  The complaints I've seen about the \" Vito-bein...      1\n"
     ]
    }
   ],
   "source": [
    "print(df.head())"
   ]
  },
  {
   "cell_type": "code",
   "execution_count": 264,
   "metadata": {},
   "outputs": [],
   "source": [
    "df.to_csv(os.path.join(DATA_DIR, \"submission.csv\"), index=False)"
   ]
  },
  {
   "cell_type": "code",
   "execution_count": 265,
   "metadata": {},
   "outputs": [],
   "source": [
    "y_test = pd.read_csv(os.path.join(DATA_DIR, \"result.csv\")) # 正确答案"
   ]
  },
  {
   "cell_type": "code",
   "execution_count": 266,
   "metadata": {},
   "outputs": [
    {
     "name": "stdout",
     "output_type": "stream",
     "text": [
      "                                            sentence  label\n",
      "0            I liked the first \" Mission Impossible.      1\n",
      "1                              I love Harry Potter..      1\n",
      "2  Not because I hate Harry Potter, but because I...      0\n",
      "3  the story of Harry Potter is a deep and profou...      1\n",
      "4  The complaints I've seen about the \" Vito-bein...      0\n"
     ]
    }
   ],
   "source": [
    "print(y_test.head())"
   ]
  },
  {
   "cell_type": "code",
   "execution_count": null,
   "metadata": {},
   "outputs": [],
   "source": []
  }
 ],
 "metadata": {
  "kernelspec": {
   "display_name": "Python 3",
   "language": "python",
   "name": "python3"
  },
  "language_info": {
   "codemirror_mode": {
    "name": "ipython",
    "version": 3
   },
   "file_extension": ".py",
   "mimetype": "text/x-python",
   "name": "python",
   "nbconvert_exporter": "python",
   "pygments_lexer": "ipython3",
   "version": "3.6.4"
  }
 },
 "nbformat": 4,
 "nbformat_minor": 2
}
