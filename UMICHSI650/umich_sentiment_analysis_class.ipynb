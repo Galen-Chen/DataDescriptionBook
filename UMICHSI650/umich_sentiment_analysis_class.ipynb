{
 "cells": [
  {
   "cell_type": "code",
   "execution_count": 2,
   "metadata": {},
   "outputs": [
    {
     "name": "stderr",
     "output_type": "stream",
     "text": [
      "/Users/jingjingy/Python/anaconda3/lib/python3.6/site-packages/h5py/__init__.py:36: FutureWarning: Conversion of the second argument of issubdtype from `float` to `np.floating` is deprecated. In future, it will be treated as `np.float64 == np.dtype(float).type`.\n",
      "  from ._conv import register_converters as _register_converters\n",
      "Using TensorFlow backend.\n"
     ]
    }
   ],
   "source": [
    "from keras.layers.core import Activation, Dense, Dropout, SpatialDropout1D\n",
    "from keras.layers.embeddings import Embedding\n",
    "from keras.layers.recurrent import LSTM\n",
    "from keras.models import Sequential\n",
    "from keras.preprocessing import sequence\n",
    "# conda install -c conda-forge keras\n",
    "\n",
    "from sklearn.model_selection import train_test_split\n",
    "import collections\n",
    "import matplotlib.pyplot as plt\n",
    "import nltk\n",
    "# conda install -c anaconda nltk\n",
    "\n",
    "import numpy as np\n",
    "import os\n",
    "import pandas as pd"
   ]
  },
  {
   "cell_type": "code",
   "execution_count": 3,
   "metadata": {},
   "outputs": [
    {
     "data": {
      "text/html": [
       "<div>\n",
       "<style scoped>\n",
       "    .dataframe tbody tr th:only-of-type {\n",
       "        vertical-align: middle;\n",
       "    }\n",
       "\n",
       "    .dataframe tbody tr th {\n",
       "        vertical-align: top;\n",
       "    }\n",
       "\n",
       "    .dataframe thead th {\n",
       "        text-align: right;\n",
       "    }\n",
       "</style>\n",
       "<table border=\"1\" class=\"dataframe\">\n",
       "  <thead>\n",
       "    <tr style=\"text-align: right;\">\n",
       "      <th></th>\n",
       "      <th>sentence</th>\n",
       "      <th>label</th>\n",
       "    </tr>\n",
       "  </thead>\n",
       "  <tbody>\n",
       "    <tr>\n",
       "      <th>0</th>\n",
       "      <td>I hate Harry Potter.</td>\n",
       "      <td>0</td>\n",
       "    </tr>\n",
       "    <tr>\n",
       "      <th>1</th>\n",
       "      <td>The first action theme to be played as the fir...</td>\n",
       "      <td>1</td>\n",
       "    </tr>\n",
       "    <tr>\n",
       "      <th>2</th>\n",
       "      <td>Always knows what I want, not guy crazy, hates...</td>\n",
       "      <td>0</td>\n",
       "    </tr>\n",
       "    <tr>\n",
       "      <th>3</th>\n",
       "      <td>Is it just me, or does Harry Potter suck?...</td>\n",
       "      <td>0</td>\n",
       "    </tr>\n",
       "    <tr>\n",
       "      <th>4</th>\n",
       "      <td>friday hung out with kelsie and we went and sa...</td>\n",
       "      <td>0</td>\n",
       "    </tr>\n",
       "  </tbody>\n",
       "</table>\n",
       "</div>"
      ],
      "text/plain": [
       "                                            sentence  label\n",
       "0                               I hate Harry Potter.      0\n",
       "1  The first action theme to be played as the fir...      1\n",
       "2  Always knows what I want, not guy crazy, hates...      0\n",
       "3       Is it just me, or does Harry Potter suck?...      0\n",
       "4  friday hung out with kelsie and we went and sa...      0"
      ]
     },
     "execution_count": 3,
     "metadata": {},
     "output_type": "execute_result"
    }
   ],
   "source": [
    "DATA_DIR = \"./data\"\n",
    "\n",
    "maxlen = 0\n",
    "word_freqs = collections.Counter()\n",
    "num_recs = 0\n",
    "train_data = pd.read_csv(os.path.join(DATA_DIR, \"train.csv\"))\n",
    "train_data.head()"
   ]
  },
  {
   "cell_type": "code",
   "execution_count": 4,
   "metadata": {},
   "outputs": [
    {
     "name": "stdout",
     "output_type": "stream",
     "text": [
      "5668\n"
     ]
    }
   ],
   "source": [
    "num_recs = len(train_data)\n",
    "print(num_recs)"
   ]
  },
  {
   "cell_type": "code",
   "execution_count": 5,
   "metadata": {},
   "outputs": [
    {
     "name": "stdout",
     "output_type": "stream",
     "text": [
      "2094\n",
      "42\n"
     ]
    }
   ],
   "source": [
    "# tokenize word\n",
    "\n",
    "maxlen = 0 # maximum sentence length\n",
    "word_freqs = collections.Counter() # counting hashtable objects, type:dict\n",
    "\n",
    "for index, row in train_data.iterrows():\n",
    "    words = nltk.word_tokenize(row['sentence'].lower())\n",
    "    if (len(words) > maxlen):\n",
    "        maxlen = len(words)\n",
    "    for word in words:\n",
    "        word_freqs[word] += 1\n",
    "print(len(word_freqs))\n",
    "print(maxlen)\n",
    "\n",
    "# word_freqs: (word, freqs)"
   ]
  },
  {
   "cell_type": "code",
   "execution_count": 31,
   "metadata": {},
   "outputs": [],
   "source": [
    "MAX_FEATURES = 2094 # number of unique words\n",
    "MAX_SENTENCE_LENGTH = 42 # maximum sentence length"
   ]
  },
  {
   "cell_type": "code",
   "execution_count": 32,
   "metadata": {},
   "outputs": [],
   "source": [
    "vocab_size = MAX_FEATURES + 2\n",
    "word2index = word2index = {x[0]: i+2 for i, x in enumerate(word_freqs.most_common(MAX_FEATURES))}\n",
    "# word_freqs: (word, count)\n",
    "\n",
    "word2index[\"PAD\"] = 0\n",
    "word2index[\"UNK\"] = 1\n",
    "# word2index: (word, index), from most to least\n",
    "\n",
    "index2word = {v:k for k, v in word2index.items()}\n",
    "# word2index: (index, word), from most to least"
   ]
  },
  {
   "cell_type": "code",
   "execution_count": 33,
   "metadata": {},
   "outputs": [
    {
     "name": "stdout",
     "output_type": "stream",
     "text": [
      "{'i': 2, ',': 3, '.': 4, 'the': 5, 'and': 6, 'harry': 7, '!': 8, 'brokeback': 9, 'vinci': 10, 'mountain': 11, 'da': 12, 'code': 13, 'potter': 14, '...': 15, 'love': 16, 'is': 17, 'a': 18, 'was': 19, 'mission': 20, 'impossible': 21, 'awesome': 22, 'like': 23, 'it': 24, 'to': 25, 'movie': 26, 'that': 27, \"'s\": 28, 'because': 29, 'hate': 30, 'sucks': 31, 'sucked': 32, 'so': 33, 'as': 34, 'my': 35, '``': 36, 'much': 37, 'of': 38, 'movies': 39, 'stupid': 40, 'really': 41, 'you': 42, 'down': 43, 'we': 44, 'with': 45, 'but': 46, 'just': 47, 'one': 48, 'be': 49, 'potter..': 50, 'know': 51, 'out': 52, 'suck': 53, '/': 54, '3': 55, 'who': 56, 'or': 57, 'am': 58, 'into': 59, 'loved': 60, 'which': 61, 'for': 62, 'want': 63, 'right': 64, 'an': 65, \"n't\": 66, 'me': 67, 'this': 68, 'think': 69, 'are': 70, ':': 71, 'how': 72, 'not': 73, 'depressing': 74, 'if': 75, 'his': 76, 'in': 77, 'why': 78, 'there': 79, 'terrible': 80, 'people': 81, 'only': 82, 'would': 83, 'reading': 84, 'series': 85, 'oh': 86, 'guy': 87, 'she': 88, 'up': 89, 'being': 90, 'fucking': 91, 'story': 92, 'here': 93, 'ok': 94, '..': 95, 'felicia': 96, 'left': 97, 'start': 98, '(': 99, 'have': 100, 'book': 101, 'beautiful': 102, 'about': 103, 'also': 104, 'on': 105, 'good': 106, 'too': 107, 'read': 108, 'can': 109, 'went': 110, 'first': 111, 'do': 112, 'then': 113, 'by': 114, 'at': 115, 'liked': 116, 'saw': 117, 'way': 118, 'he': 119, 'tom': 120, 'got': 121, '2': 122, 'watch': 123, 'thought': 124, 'well': 125, 'horrible': 126, 'what': 127, 'time': 128, 'most': 129, 'film': 130, 'absolutely': 131, 'awesome..': 132, 'ever': 133, 'more': 134, 'heard': 135, 'gay': 136, 'were': 137, 'big': 138, 'ca': 139, 'still': 140, 'last': 141, 'better': 142, 'such': 143, 'when': 144, 'from': 145, 'things': 146, 'going': 147, 'sucked..': 148, 'yeah': 149, 'never': 150, '’': 151, 'always': 152, 'boring': 153, 'making': 154, 'wait': 155, 'said': 156, 'friday': 157, 'watching': 158, 'knows': 159, '?': 160, \"'re\": 161, 'these': 162, 'rocks': 163, 'both': 164, 'cock': 165, 'hates': 166, 'na': 167, 'excellent': 168, 'great': 169, 's': 170, 'crazy': 171, 'does': 172, \"'yeah\": 173, 'acne': 174, \"'..\": 175, 'anyway': 176, 'luv': 177, 'him': 178, 'around': 179, 'letting': 180, 'side': 181, 'same': 182, 'kirsten': 183, 'leah': 184, 'kate': 185, 'escapades': 186, 'deep': 187, 'profound': 188, 'awards': 189, 'person': 190, 'past': 191, 'count': 192, 'catcher': 193, 'tye': 194, 'jane': 195, 'eyre': 196, 'virgin': 197, 'suicides': 198, 'cool': 199, 'hung': 200, 'kelsie': 201, 'gon': 202, 'sit': 203, 'mtv': 204, 'reminded': 205, 'despised': 206, 'thats': 207, 'retarted': 208, 'black': 209, 'lubb': 210, '=': 211, 'dragged': 212, 'draco': 213, 'malfoy': 214, 'trousers': 215, 'hips': 216, 'throat': 217, 'vigor': 218, 'whimpering': 219, 'noises': 220, 'panting': 221, 'groaning': 222, 'blonds': 223, 'rock-hard': 224, 'aching': 225, 'hoot': 226, 'dad': 227, 'mom': 228, 'man': 229, 'wanted': 230, 'daniel': 231, 'again': 232, 'make': 233, 'friends': 234, 'snuck': 235, 'worth': 236, 'main': 237, 'opinion': 238, 'hat': 239, 'cowboy': 240, 'turned': 241, 'reality': 242, 'bitch': 243, 'outshines': 244, 'material': 245, 'plain': 246, 'begin': 247, 'soo': 248, 'seen..': 249, 'desperately': 250, \"love'the\": 251, 'character': 252, 'dies': 253, 'stand': 254, 'wotshisface': 255, 'needs': 256, 'slap': 257, 'helped': 258, 'bobbypin': 259, 'insanely': 260, 'head': 261, 'laughed': 262, 'jokes..': 263, 'silent': 264, 'hill': 265, 'coz': 266, 'hella': 267, 'goin': 268, 'where': 269, 'sentry': 270, 'station': 271, 'bonkers': 272, '2.5': 273, 'stars': 274, 'cleaning': 275, 'table': 276, 'grabs': 277, 'keys': 278, 'dash': 279, 'freakin': 280, 'anyone': 281, 'says': 282, 'type': 283, 'likes': 284, 'review': 285, 'either': 286, 'take': 287, 'joining': 288, 'community': 289, 'b': 290, 'quiz': 291, 'bye..': 292, 'place': 293, 'fun': 294, 'becoming': 295, 'horrible..': 296, 'combining': 297, 'gary': 298, 'gin': 299, 'zen': 300, 'acceptable': 301, 'serious': 302, 'care': 303, 'homosexuality': 304, 'differently': 305, 'dudeee': 306, 'see': 307, 'all': 308, 'hated': 309, 'iii': 310, ')': 311, \"'m\": 312, 'did': 313, 'pretty': 314, 'books': 315, 'evil': 316, 'even': 317, '*': 318, 'say': 319, 'go': 320, 'though': 321, 'ass': 322, 'they': 323, 'very': 324, 'will': 325, 'had': 326, 'some': 327, 'now': 328, 'other': 329, '<': 330, 'get': 331, 'after': 332, 'cruise': 333, 'balls': 334, 'its': 335, 'watched': 336, 'than': 337, 'amazing': 338, '--': 339, 'lot': 340, 'second': 341, \"'d\": 342, 'made': 343, 'sad': 344, 'may': 345, 'mountain..': 346, 'awful': 347, 'kinda': 348, 'two': 349, 'actually': 350, 'seen': 351, 'us': 352, 'since': 353, 'already': 354, \"'ve\": 355, 'could': 356, 'over': 357, 'no': 358, 'thing': 359, 'new': 360, 'has': 361, 'been': 362, 'miss': 363, 'best': 364, 'theme': 365, 'night': 366, \"'ll\": 367, 'real': 368, 'your': 369, 'should': 370, 'crash': 371, 'lol': 372, 'before': 373, 'while': 374, '&': 375, 'far': 376, '>': 377, 'off': 378, 'world': 379, 'times': 380, 'everyone': 381, 'interesting': 382, 'enjoyed': 383, 'wrong': 384, \"'\": 385, 'them': 386, 'those': 387, 'action': 388, 'talking': 389, 'talk': 390, 'code..': 391, 'lost': 392, 'else': 393, 'having': 394, 'totally': 395, 'thinking': 396, 'told': 397, 'bad': 398, 'god': 399, 'might': 400, 'seeing': 401, 'enjoy': 402, 'shit': 403, 'anything': 404, 'every': 405, 'fact': 406, 'tell': 407, 'sucks..': 408, 'yet': 409, 'glad': 410, 'quite': 411, 'our': 412, 'life': 413, 'bogus': 414, 'inaccurate': 415, 'probably': 416, 'saying': 417, 'movie..': 418, 'looks': 419, 'little': 420, 'demons': 421, 'fandom': 422, 'won': 423, 'long': 424, 'crappy': 425, 'okay': 426, 'almost': 427, 'officially': 428, 'im': 429, 'must': 430, 'crap': 431, 'personally': 432, 'three': 433, '-': 434, 'apparently': 435, 'finished': 436, 'sucking': 437, 'fan': 438, 'luck': 439, 'end': 440, 'back': 441, 'mean': 442, 'try': 443, 'their': 444, 'feel': 445, 'kids': 446, 'novel': 447, 'through': 448, 'sure': 449, 'played': 450, 'lord': 451, 'rings': 452, 'stories': 453, 'week': 454, 'club': 455, 'hope': 456, 'damn': 457, 'used': 458, 'bit': 459, 'angels': 460, 'music': 461, 'show': 462, 'sick': 463, 'cowboys': 464, 'idea': 465, 'news': 466, 'hear': 467, 'ass..': 468, 'hey': 469, 'culture': 470, 'fire': 471, 'until': 472, 'course': 473, 'comes': 474, '[': 475, 'few': 476, 'shitty': 477, 'tonight': 478, 'doing': 479, 'theater': 480, 'something': 481, ']': 482, 'children': 483, 'omg': 484, 'picture': 485, 'least': 486, 'yes': 487, 'majorly': 488, 'fuck': 489, '$': 490, 'once': 491, 'lit': 492, 'eragon': 493, 'shows': 494, 'better..-we': 495, 'next': 496, 'ban': 497, 'passion': 498, 'level': 499, 'disliked': 500, 'minutes': 501, 'too..': 502, 'suck..': 503, 'pages': 504, 'many': 505, 'school': 506, '6th': 507, 'year': 508, 'lame': 509, 'girl': 510, 'oscar': 511, 'bullshit': 512, 'racism': 513, 'fat': 514, 'rent': 515, 'especially': 516, 'conclusion': 517, 'true': 518, 'looking': 519, 'wan': 520, 'dan': 521, 'brown': 522, 'books..': 523, 'cried': 524, 'stayed': 525, 'whole': 526, 'loves': 527, 'ta': 528, 'dont': 529, 'ten': 530, 'taking': 531, 'different': 532, 't': 533, 'short': 534, 'sexy': 535, 'song': 536, 'nothing': 537, ';': 538, 'stuff': 539, 'goblet': 540, 'kind': 541, 'donkey': 542, '3..': 543, 'worthless': 544, 'critics': 545, 'nc-17': 546, 'mouth': 547, 'finally': 548, '_': 549, 'college': 550, 'come': 551, 'days': 552, 'classes': 553, 'freaking': 554, 'stop': 555, 'given': 556, 'films': 557, 'money': 558, 'thank': 559, 'own': 560, 'heart': 561, 'cuz': 562, 'someone': 563, 'hell': 564, 'halloween': 565, 'need': 566, 'wish': 567, 'audrey': 568, 'tautou': 569, 'between': 570, 'work': 571, 'live': 572, 'fell': 573, 'fanfiction': 574, 'telling': 575, 'nearly': 576, 'any': 577, 'day': 578, 'besides': 579, 'myself': 580, 'half': 581, 'case': 582, 'mother': 583, 'extremely': 584, '+': 585, 'fireworks': 586, '‘': 587, 'accompaniment': 588, 'whistles': 589, 'bangs': 590, 'colourfully': 591, 'sky': 592, 'eating': 593, 'book..': 594, 'politics': 595, 'name': 596, 'jesus': 597, 'hands': 598, 'copy': 599, 'tired': 600, 'thousand': 601, 'expected': 602, 'hanks': 603, 'ruined': 604, '–': 605, 'adult': 606, 'point': 607, 'cry': 608, '4': 609, 'till': 610, 'lah': 611, 'written': 612, 'hopefully': 613, 'during': 614, 'sort': 615, 'erm': 616, 'challenge': 617, 'full': 618, 'word': 619, 'party': 620, 'honor': 621, 'brilliant': 622, 'food': 623, 'murderball-immediately': 624, 'robbed': 625, 'favor': 626, 'third': 627, 'aaron': 628, 'took': 629, 'draw': 630, 'phillip': 631, 'hoffman': 632, 'death': 633, 'equal': 634, 'bought': 635, 'ticket': 636, 'record': 637, 'update': 638, 'hedge': 639, 'generally': 640, 'decent': 641, 'fit': 642, 'article': 643, 'lousy': 644, 'together': 645, 'scene': 646, 'chris': 647, 'trailers': 648, 'ask': 649, 'piece': 650, 'fault': 651, 'win': 652, 'white': 653, 'emma': 654, 'watson': 655, 'biased': 656, 'normal': 657, 'religious': 658, 'writing': 659, 'job': 660, 'sense': 661, 'goth': 662, 'twist': 663, 'special': 664, 'ultimate': 665, 'marvel': 666, 'm': 667, 'hard': 668, 'yesterday': 669, 'enough': 670, 'hating': 671, 'choice': 672, 'dance': 673, 'wondering': 674, 'takes': 675, 'pop': 676, 'question': 677, 'write': 678, 'forgotten': 679, 'stone': 680, 'j.': 681, 'k.': 682, 'rowling': 683, 'strangely': 684, 'hp': 685, 'tho': 686, 'funny': 687, 'die': 688, 'quizzes': 689, '-we': 690, 'due': 691, 'theaters': 692, 'weekend': 693, 'stinks': 694, 'vampire': 695, 'jake': 696, 'months': 697, 'n': 698, 'gift': 699, 'sivullinen': 700, 'requested': 701, '”': 702, 'het': 703, 'opened': 704, 'dictate': 705, 'reply': 706, 'cut': 707, 'mirror': 708, 'speaking': 709, 'dislike': 710, 'drive': 711, 'haunt': 712, '-and': 713, 'tickets': 714, 'run': 715, 'incredibly': 716, 'asian': 717, 'christian': 718, 'franchise': 719, 'against': 720, 'showing': 721, 'rented': 722, 'absurd': 723, 'bible': 724, 'dumb': 725, 'suppose': 726, 'student': 727, 'working': 728, 'geek': 729, 'x': 730, 'catch': 731, 'awesomest': 732, 'u': 733, 'author': 734, 'cringe': 735, 'whenever': 736, 'respect': 737, 'john': 738, 'woo': 739, 'saturday': 740, 'page': 741, 'guys': 742, 'girls': 743, 'came': 744, 'home': 745, 'agree': 746, 'events': 747, 'jack': 748, 'actual': 749, 'sooo': 750, 'cute': 751, 'super': 752, 'wo': 753, 'dream': 754, 'meeting': 755, 'dementors': 756, 'often': 757, 'please': 758, 'comment': 759, 'costumes': 760, 'hide': 761, 'tragic': 762, 'feeling': 763, 'sometimes': 764, 'soon': 765, 'tv': 766, 'dick': 767, 'favorite': 768, 'yea': 769, 'beautiful..': 770, 'shittiest': 771, 'definately': 772, 'didnt': 773, 'tea': 774, 'infuser': 775, 'deal': 776, 'couple': 777, 'carefully': 778, 'costume': 779, '\\x80': 780, '\\x99': 781, 'kick': 782, 'turn': 783, 'nerd': 784, 'flick': 785, 'beat': 786, 'simply': 787, 'hollywood': 788, 'religion': 789, 'old': 790, 'tc': 791, 'sounds': 792, 'ron': 793, 'favourite': 794, 'obnoxious': 795, 're-reading': 796, 'half-blood': 797, 'prince': 798, 'final': 799, 'nice': 800, 'felt': 801, 'perhaps': 802, 'example': 803, 'hero': 804, 'attempt': 805, '10': 806, 'tale': 807, 'lords': 808, 'color': 809, 'joke': 810, 'equally': 811, 'idk': 812, 'looked': 813, 'x-men': 814, 'royally': 815, 'evil..': 816, 'much..': 817, 'georgia': 818, 'stopped': 819, 'use': 820, 'asleep': 821, 'board': 822, 'lie': 823, 'able': 824, 'everybody': 825, 'dragons': 826, 'makes': 827, 'blame': 828, 'let': 829, 'craze': 830, 'friend': 831, 'mention': 832, '�': 833, 'whether': 834, 'recently': 835, 'sorry': 836, 'funniest': 837, 'academy': 838, 'give': 839, 'popular': 840, 'capote': 841, 'firstly': 842, 'lot..': 843, 'class': 844, 'starting': 845, 'walks': 846, 'beach': 847, 'oreos': 848, 'discussed': 849, 'abortion': 850, 'south': 851, 'dakota': 852, 'strip': 853, 'understand': 854, 'sexual': 855, 'industry': 856, 'packed': 857, 'sceneries': 858, 'witha': 859, 'blasphying': 860, 'wide': 861, 'characterization': 862, 'effects': 863, 'story-i': 864, 'absolute': 865, 'denial': 866, 'rather': 867, 'general': 868, 'murdered': 869, 'finshed': 870, 'drove': 871, 'bayers': 872, 'lake': 873, 'dramatic': 874, 'supposed': 875, 'artemis': 876, 'fowl': 877, 'colony': 878, 'eoin': 879, 'colfer': 880, '385': 881, 'young': 882, 'near': 883, 'o': 884, 'random': 885, 'thoughts': 886, 'keep': 887, 'gettting': 888, 'fits': 889, '5': 890, 'sold': 891, 'disappointing': 892, 'mentioned': 893, 'appeal': 894, 'primary': 895, 'bits': 896, 'happen': 897, 'coming': 898, 'sometime..': 899, 'project': 900, 'weeeellllllll': 901, 'therefor': 902, 'unpredictable': 903, 'spy': 904, 'pastings': 905, 'mpreg': 906, 'archive': 907, 'section': 908, 'truly': 909, 'ashamed': 910, 'wept': 911, 'five': 912, 'afterwards': 913, 'ootp': 914, 'sixth': 915, 'desperate': 916, 'veil': 917, 'darkness': 918, 'oceans': 919, 'phoenix': 920, 'total': 921, '517,648': 922, 'counting': 923, 'fic': 924, 'fairly': 925, 'val': 926, 'starring': 927, 'performance': 928, 'titus': 929, 'xd': 930, 'anime': 931, 'manga': 932, 'earrings': 933, 'honestly': 934, 'tragically': 935, 'mostly': 936, 'honest': 937, 'astonishingly': 938, 'free': 939, 'badness': 940, 'increasing': 941, 'exponentially': 942, 'imagine': 943, 'compared': 944, '\\x92': 945, 'knew': 946, 'tour': 947, 'inside': 948, 'lucky': 949, 'refusing': 950, 'public': 951, 'reaction': 952, 'place-there': 953, 'aside': 954, 'seymore': 955, 'nifty': 956, 'gadgets': 957, 'fill': 958, 'blanks': 959, 'scent': 960, 'jelly': 961, 'beans': 962, 'yahoo': 963, 'games': 964, 'truly-awful': 965, 'code-themed': 966, 'skin': 967, 'chessboard': 968, 'vic': 969, 'bday': 970, 'angel': 971, 'equus': 972, 'measure': 973, 'march': 974, '31st': 975, 'g': 976, 'offence': 977, 'started': 978, 'gathered': 979, 'lamest': 980, 'cinema': 981, 'derek': 982, 'look': 983, 'wow': 984, 'updated': 985, 'hammy': 986, 'rocks..': 987, 'back.-jill': 988, 'staying': 989, 'weekend.-mission': 990, 'flat': 991, 'shipmates': 992, 'mi': 993, 'agreed': 994, 'futile': 995, 'ending': 996, 'began': 997, 'following': 998, 'clips': 999, 'featured': 1000, 'awkward': 1001, 'crystal': 1002, 'exception': 1003, 'nanny': 1004, 'mcphee': 1005, 'frenzied': 1006, 'phone': 1007, 'calls': 1008, 'laura': 1009, 'garrett': 1010, 'mountain-watched': 1011, 'twice': 1012, 'btw..': 1013, 'bound': 1014, 'wins': 1015, \"y'all\": 1016, 'gasp': 1017, 'hardcore': 1018, 'returning': 1019, 'lol..': 1020, 'symantec': 1021, 'suing': 1022, 'microsoft': 1023, 'supper': 1024, 'soundtrack': 1025, 'standpoint': 1026, 'horridly': 1027, 'basic': 1028, 'cheap': 1029, 'latin': 1030, 'daddy': 1031, 'speaker': 1032, 'exelent': 1033, 'game': 1034, 'jamie': 1035, '8': 1036, 'lil': 1037, 'bro': 1038, 'tied': 1039, '7': 1040, 'th': 1041, '~..': 1042, 'tomkat': 1043, 'pirates': 1044, 'caribbean': 1045, 'pictures': 1046, 'sarcastic': 1047, 'quirky': 1048, 'humor': 1049, 'mrs': 1050, 'yip': 1051, 'posted': 1052, 'livejournal': 1053, 'shattered-spine': 1054, 'emo-mound': 1055, 'cow': 1056, 'potterholic..': 1057, 'evilpinkmunky': 1058, 'aimee': 1059, 'fun..-the': 1060, '.-sean': 1061, 'supportive': 1062, 'friend..-indian': 1063, 'reservations': 1064, 'forget': 1065, 'clit': 1066, 'genres': 1067, 'mind': 1068, 'x3-good': 1069, 'nacho': 1070, 'libre-sucked': 1071, 'code-sucked': 1072, 'cars-good': 1073, 'hedge-good': 1074, 'hank': 1075, 'smoking-had': 1076, 'moments': 1077, 'enjoys': 1078, 'in-depth': 1079, 'conversations': 1080, 'subjects': 1081, 'interested': 1082, 'intrigued': 1083, 'tests': 1084, 'afterschool': 1085, 'relaxed': 1086, 'ate': 1087, 'margaritas': 1088, 'w': 1089, 'emily': 1090, 'titanic': 1091, 'rachel': 1092, 'nans': 1093, 'libarian': 1094, \"hated'the\": 1095, 'ideas': 1096, 'devastate': 1097, 'included': 1098, 'joe': 1099, 'mood': 1100, 'shop': 1101, 'rides': 1102, 'broom': 1103, 'decided': 1104, 'invisibility': 1105, 'cloak': 1106, 'explains': 1107, 'oddly': 1108, 'cover': 1109, 'chronological': 1110, 'ground': 1111, 'america': 1112, 'supporting': 1113, 'useless': 1114, 'silly': 1115, 'pc': 1116, 'kiss': 1117, '-sucked': 1118, 'arse': 1119, 'conquering': 1120, 'friendships': 1121, 'formed': 1122, 'along': 1123, 'remix': 1124, 'spectacularly': 1125, 'screening': 1126, 'phenomenon': 1127, 'giving': 1128, 'benefit': 1129, 'doubt': 1130, 'scenario': 1131, 'disappointed': 1132, '#': 1133, '8230': 1134, 'code-that': 1135, 'state': 1136, 'poem': 1137, 'chance': 1138, 'fabulous': 1139, 'prize': 1140, 'success': 1141, 'frakking': 1142, 'christain': 1143, 'lynne': 1144, 'devil': 1145, 'anyhow': 1146, 'decaying': 1147, 'decomposing': 1148, 'hippie': 1149, 'bringing': 1150, 'mcgarther': 1151, 'park': 1152, 'philosopher': 1153, 'fanfic': 1154, 'maybe': 1155, 'throw': 1156, 'jail': 1157, 'break': 1158, 'rofls': 1159, 'anus': 1160, 'melbourne': 1161, 'confess': 1162, 'judgement': 1163, 'online': 1164, 'more..': 1165, 'mountain-this': 1166, 'finish': 1167, 'fabricated': 1168, 'la': 1169, 'christianity': 1170, 'tomorrow': 1171, 'davinci': 1172, 'combonation': 1173, 'viewings': 1174, 'burbank': 1175, 'calif.': 1176, 'ap': 1177, '-brooke': 1178, 'shields': 1179, 'publicly': 1180, 'apologized': 1181, 'career': 1182, 'including': 1183, 'war': 1184, 'worlds': 1185, 'atrocious': 1186, '\\\\': 1187, 'book-i': 1188, 'deemed': 1189, 'gavin': 1190, 'degraw': 1191, 'beatles': 1192, 'drawing..': 1193, \"freagin'love\": 1194, 'magical': 1195, 'lore': 1196, 'forgot': 1197, \"code'it\": 1198, 'possum': 1199, 'interview': 1200, 'anne': 1201, 'rice': 1202, 'bbm': 1203, 'heath': 1204, 'rps': 1205, 'figured': 1206, 'interest': 1207, 'check': 1208, 'days..': 1209, 'bridget': 1210, 'jones': 1211, 'appeals': 1212, 'chick': 1213, 'arenas': 1214, 'genre': 1215, 'explore': 1216, 'picky': 1217, '6': 1218, 'homophobic': 1219, 'eat': 1220, 'chinese': 1221, 'dim': 1222, 'sum': 1223, 'lilo': 1224, 'stitch': 1225, 'barnyard': 1226, '1984': 1227, 've': 1228, 'thick': 1229, 'whos': 1230, 'sorcerer': 1231, 'low': 1232, 'vault': 1233, 'matters': 1234, 'pressing': 1235, 'alarm': 1236, 'codes': 1237, 'fortress..': 1238, 'thursday': 1239, 'dinner': 1240, 'min': 1241, 'rosie': 1242, 'clive': 1243, 'cussler': 1244, 'relic': 1245, 'plausible': 1246, 'cast': 1247, 'spells': 1248, 'coloured': 1249, 'spoke': 1250, 'mrs.': 1251, 'cowan': 1252, 'briefly': 1253, 'independent': 1254, 'study': 1255, 'lazy': 1256, 'semester': 1257, 'ago': 1258, 'folk': 1259, 'families': 1260, 'boycotted': 1261, 'lynn': 1262, 'jon': 1263, 'code-other': 1264, 'luau': 1265, 'facing': 1266, 'richard': 1267, 'simmons..': 1268, 'wiccans': 1269, 'react': 1270, 'possible': 1271, 'marcia': 1272, 'gaither': 1273, 'teaches': 1274, 'wiccanism': 1275, 'controversy': 1276, '-it': 1277, 'thinks': 1278, 'iii-sucks': 1279, 'big-time': 1280, 'dart': 1281, 'song..': 1282, 'considered': 1283, 'hooker': 1284, 'sawyer': 1285, 'raises': 1286, 'theological': 1287, 'questions': 1288, 'talked': 1289, 'writer': 1290, 'immortal': 1291, 'psychology': 1292, 'thesis': 1293, 'iq': 1294, 'cucumber': 1295, 'tech': 1296, 'small': 1297, 'cars': 1298, 'etc': 1299, 'definitely': 1300, 'japenese': 1301, 'food..': 1302, 'ony': 1303, 'monchel': 1304, 'brigid': 1305, 'france': 1306, 'portugal': 1307, 'match': 1308, 'dvds': 1309, 'instead..': 1310, 'putting': 1311, 'pocket': 1312, 'portuguese': 1313, 'spanish': 1314, 'ultimatly': 1315, 'seem': 1316, 'hold': 1317, 'bless': 1318, 'linked': 1319, 'backtory': 1320, 'various': 1321, 'historical': 1322, 'figures': 1323, 'scifi': 1324, 'mountain-hard': 1325, 'ignore': 1326, 'photography': 1327, 'soooooo': 1328, 'claiming': 1329, 'drain': 1330, 'cant': 1331, 'figure': 1332, '286': 1333, 'tiny': 1334, 'pink': 1335, 'bitter': 1336, 'omen': 1337, 'muahahaahahah': 1338, 'mybutthole': 1339, 'yuh': 1340, 'nasy': 1341, 'c.': 1342, 'joiners': 1343, 'hilarious': 1344, 'bond': 1345, 'kicking': 1346, 'hot': 1347, 'tiffani': 1348, 'ridiculous': 1349, 'panties': 1350, 'bunch': 1351, 'heresies': 1352, 'blashpemies': 1353, 'whatever': 1354, 'allegedly': 1355, 'contains': 1356, 'durno': 1357, 'slash': 1358, 'race': 1359, 'happy': 1360, 'ps-brokeback': 1361, 'twilight': 1362, 'unfortunate': 1363, 'tons': 1364, 'spin': 1365, 'middle': 1366, 'tan': 1367, 'around..': 1368, 'film..': 1369, 'ripper': 1370, '…': 1371, 'actors': 1372, '…..': 1373, 'grown': 1374, 'teevee': 1375, 'topic': 1376, 'rant': 1377, 'deluded': 1378, 'less': 1379, 'loose': 1380, 'allegory': 1381, 'holy': 1382, 'problem': 1383, 'pretending': 1384, 'moives': 1385, 'empty': 1386, 'spec': 1387, 'candy': 1388, 'requim': 1389, 'body': 1390, 'christopher': 1391, 'creed': 1392, 'brazil': 1393, 'ignorant': 1394, 'villains': 1395, 'creatures': 1396, 'called': 1397, 'ran': 1398, 'top': 1399, 'gun': 1400, 'cocktail': 1401, 'et': 1402, 'al': 1403, 'dork': 1404, 'everytime': 1405, \"said'harry\": 1406, \"sucks'i\": 1407, 'outnumbered': 1408, \"saying'harry\": 1409, 'rules': 1410, 'hahahaha': 1411, 'sent': 1412, '50': 1413, 'musiclove..': 1414, 'seymour': 1415, 'simon': 1416, 'pegg': 1417, 'wicked': 1418, 'thanks': 1419, '33': 1420, 'rehearsal': 1421, 'planning': 1422, '2007': 1423, 'unfortunately': 1424, 'queer': 1425, 'eye': 1426, 'paper': 1427, 'entitled': 1428, 'worst': 1429, 'boys': 1430, 'alright': 1431, 'hello': 1432, 'experience': 1433, 'camp': 1434, 'setting': 1435, 'land': 1436, 'places': 1437, 'win..': 1438, 'happiness': 1439, 'usually': 1440, 'form': 1441, 'storytimes': 1442, 'occasional': 1443, 'talks': 1444, 'julia': 1445, 'marisa': 1446, 'immensely': 1447, 'well-executed': 1448, 'moralistic': 1449, 'awesome-good': 1450, 'ur': 1451, 'tennis': 1452, 'tournament..': 1453, 'mountain-which': 1454, 'theatan': 1455, 'energy': 1456, 'field': 1457, 'boycott': 1458, 'impossible-tom': 1459, 'suncoast': 1460, 'friday-harry': 1461, 'feast': 1462, 'complaints': 1463, 'vito-being-gay': 1464, 'plot': 1465, 'facile': 1466, 'comparsions': 1467, 'idiot': 1468, 'loathe': 1469, 'nature': 1470, 'score-brokeback': 1471, 'score': 1472, 'orig': 1473, 'amazes': 1474, 'afraid': 1475, 'mountain-beautiful': 1476, 'sweeping': 1477, 'moving': 1478, '9am': 1479, 'kat-tun': 1480, 'starred': 1481, 'seriously': 1482, 'bet': 1483, 'blows': 1484, 'adore': 1485, 'hogwarts': 1486, 'attraction': 1487, 'reopened': 1488, 'release': 1489, 'unable': 1490, 'prisoner': 1491, 'azkaban': 1492, 'joy': 1493, 'imo': 1494, 'folows': 1495, 'date': 1496, 'jamaica': 1497, 'queens..': 1498, 'vintage': 1499, 'silver': 1500, 'instead': 1501, 'shaped': 1502, 'frog': 1503, 'discovered': 1504, 'liberal': 1505, 'exploitation': 1506, \"watched'10\": 1507, \"you'and\": 1508, \"of'brokeback\": 1509, 'boycotting': 1510, 'kicked': 1511, 'haunted': 1512, 'done': 1513, 'settin': 1514, 'halls': 1515, 'partyin': 1516, 'weekends': 1517, 'clubbin': 1518, 'lunch': 1519, 'causing': 1520, 'disruption': 1521, 'wherever': 1522, 'harrison': 1523, 'talkin': 1524, 'bout': 1525, '200': 1526, 'you..': 1527, '^': 1528, 'prediction': 1529, 'correct': 1530, 'kite': 1531, 'runner': 1532, 'monthly': 1533, 'didnâ': 1534, 'donâ': 1535, 'thirdly-the': 1536, 'impossible..': 1537, 'gosh': 1538, 'rest': 1539, 'addition': 1540, 'congrats': 1541, 'beating': 1542, 'jay': 1543, 'rickards': 1544, 'finals': 1545, 'fair': 1546, 'lower': 1547, 'shade': 1548, 'others': 1549, 'issues': 1550, '00': 1551, 'rode': 1552, 'bikes': 1553, 'reference': 1554, 'hahash': 1555, 'tooo': 1556, 'protests': 1557, 'share': 1558, 'idiots': 1559, 'kid': 1560, 'cake': 1561, 'ian': 1562, 'mckellen': 1563, 'husband': 1564, 'fiber': 1565, 'inherently': 1566, 'hollywoord': 1567, 'guys..': 1568, 'future': 1569, 'overexagerated': 1570, 'man..': 1571, 'lines': 1572, 'today': 1573, 'rocked': 1574, 'unbelievably': 1575, 'believably': 1576, 'posts': 1577, 'drowining': 1578, 'µª': 1579, '0': 1580, 'soooo': 1581, 'none': 1582, 'exquisite': 1583, 'texts-fantasy': 1584, 'obviously-is': 1585, 'criticized': 1586, 'oversimplifying': 1587, 'struggle': 1588, 'vs.': 1589, 'grey': 1590, 'anatomy': 1591, 'showcasing': 1592, 'aniwae': 1593, 'men': 1594, 'today..': 1595, 'beyond': 1596, 'tome': 1597, 'unauthorized': 1598, 'deals': 1599, 'inspired': 1600, 'theres': 1601, 'avatar': 1602, 'mall': 1603, 'shopping': 1604, 'exciting': 1605, '.-wish': 1606, 'crack': 1607, 'motherfuckers': 1608, 'tonite..-da': 1609, 'balls..-poseidon': 1610, 'balls..-hooray': 1611, 'memoirs': 1612, 'geisha': 1613, 'ripping': 1614, 'acoustic': 1615, 'credit': 1616, 'insane': 1617, 'listen': 1618, 'kanye': 1619, 'west': 1620, 'god-awful': 1621, 'remix..': 1622, 'roommate': 1623, 'believe': 1624, 'facebook': 1625, 'group': 1626, \"called'harry\": 1627, 'wesley': 1628, 'captain': 1629, 'picard': 1630, 'douche': 1631, 'patirot': 1632, 'knights': 1633, 'four': 1634, 'feathers': 1635, 'casanova': 1636, 'dogtown': 1637, 'monsters': 1638, 'ball': 1639, 'howard': 1640, 'acting': 1641, 'overlooking': 1642, 'hair': 1643, 'trivia': 1644, 'eyes': 1645, 'impossible-3..': 1646, 'quip': 1647, 'v': 1648, 'freak': 1649, '.-sorcerer': 1650, 'stone.-chamber': 1651, 'secrets.-prisoner': 1652, 'azkaban.-goblet': 1653, 'fire.-i': 1654, '.-i': 1655, 'shit-i': 1656, 'planned': 1657, 'biggie': 1658, 'admiring': 1659, 'sisters': 1660, 'collection': 1661, 'waited': 1662, 'novels': 1663, 'disney': 1664, 'chronicles': 1665, 'narnia': 1666, 'ring': 1667, 'apart': 1668, 'ang': 1669, 'lee..': 1670, 'me..': 1671, 'fade': 1672, 'creature': 1673, 'demeantor': 1674, 'soul': 1675, 'major': 1676, 'extent': 1677, 'house': 1678, 'mi3': 1679, 'predictable': 1680, 'lame..': 1681, 'cos': 1682, 'effort': 1683, 'juicy': 1684, 'deserved': 1685, '1': 1686, 'sucky': 1687, 'backward': 1688, 'mormon': 1689, 'poorly': 1690, 'boring..': 1691, '1-brokeback': 1692, 'fuckers': 1693, 'shut': 1694, 'eh': 1695, 'homophobes': 1696, 'corrupting': 1697, 'um': 1698, 'except': 1699, 'shout': 1700, 'esther': 1701, 'calling': 1702, 'asking': 1703, 'screenplay': 1704, 'mph': 1705, 'sale': 1706, 'expo': 1707, 'getting': 1708, 'freshman': 1709, 'itz': 1710, 'altogether': 1711, 'weird': 1712, 'closet': 1713, 'blogbacklinktitle': 1714, 'blogbacklinksnippet': 1715, 'warns': 1716, 'indoctrinate': 1717, 'wicca': 1718, 'fantasy': 1719, 'ah': 1720, 'nothin': 1721, 'heather': 1722, 'shes': 1723, 'stites': 1724, 'highly': 1725, 'inappropriate': 1726, 'headmistress': 1727, 'office': 1728, 'melandry': 1729, 'completely': 1730, 'explaination': 1731, 'travel': 1732, 'packs': 1733, 'visually': 1734, 'incredible': 1735, 'directed': 1736, 'thriller': 1737, 'turner': 1738, 'deciding': 1739, '7th': 1740, '-..': 1741, 'latter': 1742, 'revise': 1743, 'jokes': 1744, 'unless': 1745, 'crafted': 1746, 'involve': 1747, 'pop-culture': 1748, 'code-illustrated': 1749, 'edition': 1750, 'education': 1751, 'seeking': 1752, 'simple': 1753, 'answers': 1754, 'stinks..': 1755, 'adorable': 1756, 'amã': 1757, '©': 1758, 'springer': 1759, '-yes': 1760, 'christmas': 1761, 'trip': 1762, 'easy': 1763, 'fall': 1764, 'sam': 1765, 'independant': 1766, 'pudding': 1767, 'category': 1768, '3333': 1769, 'proud': 1770, 'task': 1771, 'achieved': 1772, 'found': 1773, 'german..': 1774, \"book'da\": 1775, 'tourist': 1776, 'horses': 1777, 'hugged': 1778, 'wranglers': 1779, \"him'i\": 1780, 'pleased': 1781, 'open-mindedness': 1782, 'enjoyment': 1783, 'reads': 1784, 'surprisingly': 1785, 'bored': 1786, 'boyy': 1787, 'hahahahahaha': 1788, 'weiners': 1789, 'dorks': 1790, 'riding': 1791, 'giants': 1792, 'napoleon': 1793, 'dynamite': 1794, 'everything': 1795, 'realize': 1796, 'kept': 1797, 'mainstream': 1798, 'heteronormativity': 1799, 'sing': 1800, 'excersizing': 1801, 'funner': 1802, 'kenley': 1803, 'decides': 1804, 'buy': 1805, 'plastic': 1806, 'axes': 1807, 'quick': 1808, '..-have': 1809, 'smoked': 1810, 'week..-have': 1811, 'consumed': 1812, 'meat': 1813, 'week..-da': 1814, 'sucked..-love': 1815, 'place..-broke': 1816, 'anyways': 1817, 'books-not': 1818, 'bootlegged': 1819, 'radcliffe': 1820, 'street': 1821, 'teri': 1822, '12': 1823, 'playing': 1824, '007..': 1825, 'dress': 1826, 'find': 1827, 'anywhere': 1828, 'town': 1829, 'latest': 1830, 'festivities': 1831, 'madre': 1832, 'stinkin': 1833, '-ike..': 1834, 'gn': 1835, 'gl': 1836, 'important': 1837, 'hyped': 1838, 'actor': 1839, 'plays': 1840, 'dumbledor': 1841, 'judging': 1842, 'generated': 1843, 'gives': 1844, 'bolsters': 1845, 'arguments': 1846, 'england': 1847, 'hairy': 1848, 'otters': 1849, 'wussies': 1850, 'suspenseful': 1851, 'living': 1852, 'guts': 1853, 'johnny': 1854, 'depp': 1855, 'knight': 1856, '=..': 1857, 'undercover': 1858, 'grips': 1859, 'mocking..': 1860, 'close': 1861, 'whom': 1862, 'shadeslayer': 1863, 'truth': 1864, 'probable': 1865, 'fr': 1866, 'whereas': 1867, 'brother': 1868, 'cousins': 1869, 'parents': 1870, '.-mission': 1871, 'around..-the': 1872, 'cobequid': 1873, 'health': 1874, 'center': 1875, 'soooooooo': 1876, 'images': 1877, 'lin': 1878, 'pale': 1879, 'comparrison': 1880, 'hoover': 1881, 'consider': 1882, 'ive': 1883, 'friggin': 1884, 'attached': 1885, 'clarksville': 1886, 'summer': 1887, 'move': 1888, 'waaaaaaaaaaaaaaaaaaaaaaaaaaaaaaaaaaaaaaaaaaaaaaaaaaaaaaaaaaaaa': 1889, 'p.': 1890, 's.': 1891, 'change': 1892, 'background': 1893, \"mountain'is\": 1894, 'neither': 1895, 'nor': 1896, 'gayness': 1897, 'drawn': 1898, 'personaly': 1899, 'encourage': 1900, 'wholesome': 1901, 'sakes': 1902, 'intellectual': 1903, 'debates..': 1904, '1st': 1905, '2nd': 1906, 'clearly': 1907, 'gay-scientologist-mission': 1908, 'lapse': 1909, 'created': 1910, 'account': 1911, 'comments': 1912, 'icons': 1913, 'gorgeous': 1914, 'post': 1915, 'add': 1916, 'save': 1917, 'requiem': 1918, 'danielle': 1919, 'code-very': 1920, 'angle': 1921, 'precious': 1922, 'classic': 1923, 'cheapened': 1924, 'association': 1925, 'glitz': 1926, 'gossip': 1927, 'romantic': 1928, 'heartbraking': 1929, 'hookup': 1930, '~': 1931, 'fyi-mission': 1932, 'kelse': 1933, 'spontaneously': 1934, '10pm': 1935, 'three-generation': 1936, 'team': 1937, 'infiltrate': 1938, 'hour': 1939, 'doors': 1940, 'open': 1941, 'conversation': 1942, 'professors': 1943, 'literature': 1944, 'huh': 1945, 'freezing': 1946, 'cold': 1947, '-after': 1948, 'google': 1949, 'urls': 1950, 'track': 1951, 'dumbest': 1952, 'note': 1953, 'joan': 1954, 'keeps': 1955, '700': 1956, 'million': 1957, '33..': 1958, 'trece': 1959, 'tried': 1960, 'died': 1961, 'fallon': 1962, 'convo': 1963, 'sunday': 1964, \"was'harry\": 1965, 'good..': 1966, 'chicken': 1967, 'asshole': 1968, 'irrespective': 1969, 'writes': 1970, 'legacy': 1971, 'grand': 1972, 'finale': 1973, 'lives': 1974, 'hype': 1975, 'television': 1976, 'screens': 1977, 'perfect': 1978, 'literary': 1979, 'version': 1980, 'adaptation': 1981, 'van': 1982, 'insurance': 1983, 'runs': 1984, 'room': 1985, 'messy': 1986, 'clean': 1987, 'timings': 1988, 'ended': 1989, 'fer': 1990, 'runaway': 1991, 'vacation': 1992, 'dating': 1993, 'sister': 1994, 'huge': 1995, 'loser': 1996, 'madly': 1997, 'characters': 1998, 'award': 1999, 'harder': 2000, 'pup-tent': 2001, 'sports': 2002, 'messiah': 2003, 'complex': 2004, 'police': 2005, 'longer': 2006, 'ones..': 2007, 'mang': 2008, 'changes': 2009, 'whiny': 2010, 'lesson': 2011, 'fix': 2012, 'hooked': 2013, 'btw': 2014, '30': 2015, 'unexpected': 2016, 'basically': 2017, 'diversity': 2018, 'involved': 2019, '*..': 2020, 'kick-ass': 2021, 'robe': 2022, 'lends': 2023, 'itself': 2024, 'nicely': 2025, 'frodo': 2026, 'vice': 2027, 'versa': 2028, 'although': 2029, 'amazing..': 2030, 'dearly': 2031, 'shoes': 2032, 'scar': 2033, 'yeah-i': 2034, 'gladly': 2035, 'play': 2036, 'dungeons': 2037, 'asks': 2038, 'chunnel': 2039, 'fears': 2040, 'scared': 2041, 'regardless..': 2042, 'lotr': 2043, 'superman': 2044, 'budget': 2045, 'reviews': 2046, 'jessica': 2047, 'dumb..': 2048, 'shameful': 2049, 'halfway': 2050, 'terrible..': 2051, 'burnt': 2052, 'heavy': 2053, 'enjoying': 2054, 'abrams': 2055, 'reason': 2056, 'explosions': 2057, 'shame': 2058, 'transamerica': 2059, 'reasons': 2060, 'belong': 2061, 'wif': 2062, 'haha': 2063, 'light': 2064, 'radio': 2065, 'hand..': 2066, 'larry': 2067, 'mcmurtry': 2068, 'diana': 2069, 'ossana-the': 2070, 'do..': 2071, 'gayer': 2072, 'picnic': 2073, 'basket': 2074, 'kill': 2075, 'writers': 2076, 'ruining': 2077, 'image': 2078, 'related': 2079, 'it..': 2080, 'wacked': 2081, 'intense': 2082, 'phase': 2083, 'kudos': 2084, 'blog': 2085, 'ya': 2086, 'dumbass': 2087, 'd': 2088, 'loathed': 2089, 'involving': 2090, 'offense': 2091, 'whatev': 2092, 'realized': 2093, 'wonderful': 2094, 'rare': 2095, 'PAD': 0, 'UNK': 1}\n"
     ]
    }
   ],
   "source": [
    "print(word2index)"
   ]
  },
  {
   "cell_type": "code",
   "execution_count": 34,
   "metadata": {},
   "outputs": [
    {
     "name": "stdout",
     "output_type": "stream",
     "text": [
      "[[  0   0   0 ...   7  14   4]\n",
      " [  0   0   0 ...  89 592   4]\n",
      " [  0   0   0 ... 166   7  50]\n",
      " ...\n",
      " [  0   0   0 ...   7  14   4]\n",
      " [  0   0   0 ... 252 253   4]\n",
      " [  0   0   0 ...  22  26   4]]\n"
     ]
    }
   ],
   "source": [
    "X = np.empty((num_recs, ), dtype=list)\n",
    "y = np.zeros((num_recs, ))\n",
    "i = 0\n",
    "for index, row in train_data.iterrows():\n",
    "    words = nltk.word_tokenize(row['sentence'].lower())\n",
    "    seqs = []\n",
    "    for word in words:\n",
    "        if word in word2index:\n",
    "            seqs.append(word2index[word])\n",
    "        else:\n",
    "            seqs.append(word2index[\"UNK\"])\n",
    "    X[i] = seqs\n",
    "    y[i] = int(row['label'])\n",
    "    i += 1\n",
    "\n",
    "X = sequence.pad_sequences(X, maxlen=MAX_SENTENCE_LENGTH)\n",
    "print(X)"
   ]
  },
  {
   "cell_type": "code",
   "execution_count": 35,
   "metadata": {},
   "outputs": [],
   "source": [
    "EMBEDDING_SIZE = 128\n",
    "HIDDEN_LAYER_SIZE = 64\n",
    "BATCH_SIZE = 32\n",
    "NUM_EPOCHS = 10"
   ]
  },
  {
   "cell_type": "code",
   "execution_count": 37,
   "metadata": {},
   "outputs": [
    {
     "name": "stdout",
     "output_type": "stream",
     "text": [
      "Epoch 1/10\n",
      "5668/5668 [==============================] - 61s 11ms/step - loss: 0.2372 - acc: 0.9008\n",
      "Epoch 2/10\n",
      "5668/5668 [==============================] - 54s 10ms/step - loss: 0.0341 - acc: 0.9882\n",
      "Epoch 3/10\n",
      "5668/5668 [==============================] - 44s 8ms/step - loss: 0.0092 - acc: 0.9977\n",
      "Epoch 4/10\n",
      "5668/5668 [==============================] - 54s 10ms/step - loss: 0.0065 - acc: 0.9984\n",
      "Epoch 5/10\n",
      "5668/5668 [==============================] - 52s 9ms/step - loss: 0.0042 - acc: 0.9993\n",
      "Epoch 6/10\n",
      "5668/5668 [==============================] - 52s 9ms/step - loss: 0.0013 - acc: 1.0000\n",
      "Epoch 7/10\n",
      "5668/5668 [==============================] - 53s 9ms/step - loss: 5.1466e-04 - acc: 1.0000\n",
      "Epoch 8/10\n",
      "5668/5668 [==============================] - 53s 9ms/step - loss: 2.1230e-04 - acc: 1.0000\n",
      "Epoch 9/10\n",
      "5668/5668 [==============================] - 43s 8ms/step - loss: 0.0035 - acc: 0.9996\n",
      "Epoch 10/10\n",
      "5668/5668 [==============================] - 34s 6ms/step - loss: 4.3130e-04 - acc: 1.0000\n"
     ]
    }
   ],
   "source": [
    "model = Sequential()\n",
    "model.add(Embedding(vocab_size, EMBEDDING_SIZE, input_length=MAX_SENTENCE_LENGTH))\n",
    "model.add(Dropout(0.2))\n",
    "model.add(LSTM(HIDDEN_LAYER_SIZE, dropout=0.2, recurrent_dropout=0.2))\n",
    "model.add(Dense(1))\n",
    "model.add(Activation(\"sigmoid\"))\n",
    "\n",
    "model.compile(loss=\"binary_crossentropy\", optimizer=\"adam\", metrics=[\"accuracy\"])\n",
    "\n",
    "history = model.fit(X, y, batch_size=BATCH_SIZE, epochs=NUM_EPOCHS)"
   ]
  },
  {
   "cell_type": "code",
   "execution_count": null,
   "metadata": {},
   "outputs": [],
   "source": []
  }
 ],
 "metadata": {
  "kernelspec": {
   "display_name": "Python 3",
   "language": "python",
   "name": "python3"
  },
  "language_info": {
   "codemirror_mode": {
    "name": "ipython",
    "version": 3
   },
   "file_extension": ".py",
   "mimetype": "text/x-python",
   "name": "python",
   "nbconvert_exporter": "python",
   "pygments_lexer": "ipython3",
   "version": "3.6.4"
  }
 },
 "nbformat": 4,
 "nbformat_minor": 2
}
